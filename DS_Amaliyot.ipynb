{
  "nbformat": 4,
  "nbformat_minor": 0,
  "metadata": {
    "colab": {
      "name": "DS-3-Modul-3-Amaliyot-tozalash.ipynb",
      "provenance": [],
      "collapsed_sections": []
    },
    "kernelspec": {
      "name": "python3",
      "display_name": "Python 3"
    },
    "language_info": {
      "name": "python"
    }
  },
  "cells": [
    {
      "cell_type": "markdown",
      "metadata": {
        "id": "poH5phdmhSLa"
      },
      "source": [
        "# ![Imgur](https://i.imgur.com/5pXzCIu.png)\n",
        "\n",
        "# **DATA SCIENCE VA SUN'IY INTELLEKT PRAKTIKUM**\n",
        "\n",
        "## 3.2 Ma'lumotlarni tayyorlash\n",
        "\n",
        "# **AMALIYOT**\n",
        "## Ma'lumotlarga ishlov berish\n",
        "\n",
        "\n",
        "\n"
      ]
    },
    {
      "cell_type": "code",
      "metadata": {
        "id": "wX08M2KIMfHY"
      },
      "source": [
        "import pandas as pd\n",
        "import numpy as np"
      ],
      "execution_count": 1,
      "outputs": []
    },
    {
      "cell_type": "code",
      "metadata": {
        "id": "E-eS1Sx-MiTH",
        "colab": {
          "base_uri": "https://localhost:8080/",
          "height": 381
        },
        "outputId": "6e363f88-ec62-4c2c-ad1b-81b6ee6342aa"
      },
      "source": [
        "df = pd.read_csv(\"https://raw.githubusercontent.com/mukhammad-irmatov/health_dataset/main/healt_info.csv\")\n",
        "df.head(3)"
      ],
      "execution_count": 2,
      "outputs": [
        {
          "output_type": "execute_result",
          "data": {
            "text/html": [
              "\n",
              "  <div id=\"df-8979b2d9-98e6-4112-85ce-284bc9dcaa25\">\n",
              "    <div class=\"colab-df-container\">\n",
              "      <div>\n",
              "<style scoped>\n",
              "    .dataframe tbody tr th:only-of-type {\n",
              "        vertical-align: middle;\n",
              "    }\n",
              "\n",
              "    .dataframe tbody tr th {\n",
              "        vertical-align: top;\n",
              "    }\n",
              "\n",
              "    .dataframe thead th {\n",
              "        text-align: right;\n",
              "    }\n",
              "</style>\n",
              "<table border=\"1\" class=\"dataframe\">\n",
              "  <thead>\n",
              "    <tr style=\"text-align: right;\">\n",
              "      <th></th>\n",
              "      <th>Sno</th>\n",
              "      <th>AGE</th>\n",
              "      <th>SEX</th>\n",
              "      <th>CASTE_NAME</th>\n",
              "      <th>CATEGORY_CODE</th>\n",
              "      <th>CATEGORY_NAME</th>\n",
              "      <th>SURGERY_CODE</th>\n",
              "      <th>SURGERY</th>\n",
              "      <th>VILLAGE</th>\n",
              "      <th>MANDAL_NAME</th>\n",
              "      <th>DISTRICT_NAME</th>\n",
              "      <th>PREAUTH_DATE</th>\n",
              "      <th>PREAUTH_AMT</th>\n",
              "      <th>CLAIM_DATE</th>\n",
              "      <th>CLAIM_AMOUNT</th>\n",
              "      <th>HOSP_NAME</th>\n",
              "      <th>HOSP_TYPE</th>\n",
              "      <th>HOSP_DISTRICT</th>\n",
              "      <th>SURGERY_DATE</th>\n",
              "      <th>DISCHARGE_DATE</th>\n",
              "      <th>Mortality Y / N</th>\n",
              "      <th>MORTALITY_DATE</th>\n",
              "      <th>SRC_REGISTRATION</th>\n",
              "    </tr>\n",
              "  </thead>\n",
              "  <tbody>\n",
              "    <tr>\n",
              "      <th>0</th>\n",
              "      <td>1</td>\n",
              "      <td>56</td>\n",
              "      <td>Female</td>\n",
              "      <td>BC</td>\n",
              "      <td>M6</td>\n",
              "      <td>NEPHROLOGY</td>\n",
              "      <td>M6.5</td>\n",
              "      <td>Maintenance Hemodialysis For Crf</td>\n",
              "      <td>Lolugu</td>\n",
              "      <td>Ponduru</td>\n",
              "      <td>Srikakulam</td>\n",
              "      <td>03-08-2013 20:38</td>\n",
              "      <td>12500</td>\n",
              "      <td>22-03-2017 20:25</td>\n",
              "      <td>11000</td>\n",
              "      <td>Rims Govt. General Hospital, Srikakulam</td>\n",
              "      <td>G</td>\n",
              "      <td>Srikakulam</td>\n",
              "      <td>06-08-2013 00:00</td>\n",
              "      <td>07-09-2013 00:00</td>\n",
              "      <td>NO</td>\n",
              "      <td>NaN</td>\n",
              "      <td>D</td>\n",
              "    </tr>\n",
              "    <tr>\n",
              "      <th>1</th>\n",
              "      <td>2</td>\n",
              "      <td>37</td>\n",
              "      <td>Male</td>\n",
              "      <td>BC</td>\n",
              "      <td>M6</td>\n",
              "      <td>NEPHROLOGY</td>\n",
              "      <td>M6.5</td>\n",
              "      <td>Maintenance Hemodialysis For Crf</td>\n",
              "      <td>Borivanka</td>\n",
              "      <td>Kaviti</td>\n",
              "      <td>Srikakulam</td>\n",
              "      <td>06-08-2013 07:26</td>\n",
              "      <td>12500</td>\n",
              "      <td>22-03-2017 20:25</td>\n",
              "      <td>11000</td>\n",
              "      <td>Rims Govt. General Hospital, Srikakulam</td>\n",
              "      <td>G</td>\n",
              "      <td>Srikakulam</td>\n",
              "      <td>08-08-2013 00:00</td>\n",
              "      <td>09-09-2013 00:00</td>\n",
              "      <td>NO</td>\n",
              "      <td>NaN</td>\n",
              "      <td>D</td>\n",
              "    </tr>\n",
              "    <tr>\n",
              "      <th>2</th>\n",
              "      <td>3</td>\n",
              "      <td>50</td>\n",
              "      <td>Male</td>\n",
              "      <td>BC</td>\n",
              "      <td>M6</td>\n",
              "      <td>NEPHROLOGY</td>\n",
              "      <td>M6.5</td>\n",
              "      <td>Maintenance Hemodialysis For Crf</td>\n",
              "      <td>Kapasakuddi</td>\n",
              "      <td>Kaviti</td>\n",
              "      <td>Srikakulam</td>\n",
              "      <td>09-08-2013 18:30</td>\n",
              "      <td>12500</td>\n",
              "      <td>22-03-2017 20:25</td>\n",
              "      <td>11500</td>\n",
              "      <td>Rims Govt. General Hospital, Srikakulam</td>\n",
              "      <td>G</td>\n",
              "      <td>Srikakulam</td>\n",
              "      <td>15-08-2013 00:00</td>\n",
              "      <td>18-10-2013 00:00</td>\n",
              "      <td>NO</td>\n",
              "      <td>NaN</td>\n",
              "      <td>D</td>\n",
              "    </tr>\n",
              "  </tbody>\n",
              "</table>\n",
              "</div>\n",
              "      <button class=\"colab-df-convert\" onclick=\"convertToInteractive('df-8979b2d9-98e6-4112-85ce-284bc9dcaa25')\"\n",
              "              title=\"Convert this dataframe to an interactive table.\"\n",
              "              style=\"display:none;\">\n",
              "        \n",
              "  <svg xmlns=\"http://www.w3.org/2000/svg\" height=\"24px\"viewBox=\"0 0 24 24\"\n",
              "       width=\"24px\">\n",
              "    <path d=\"M0 0h24v24H0V0z\" fill=\"none\"/>\n",
              "    <path d=\"M18.56 5.44l.94 2.06.94-2.06 2.06-.94-2.06-.94-.94-2.06-.94 2.06-2.06.94zm-11 1L8.5 8.5l.94-2.06 2.06-.94-2.06-.94L8.5 2.5l-.94 2.06-2.06.94zm10 10l.94 2.06.94-2.06 2.06-.94-2.06-.94-.94-2.06-.94 2.06-2.06.94z\"/><path d=\"M17.41 7.96l-1.37-1.37c-.4-.4-.92-.59-1.43-.59-.52 0-1.04.2-1.43.59L10.3 9.45l-7.72 7.72c-.78.78-.78 2.05 0 2.83L4 21.41c.39.39.9.59 1.41.59.51 0 1.02-.2 1.41-.59l7.78-7.78 2.81-2.81c.8-.78.8-2.07 0-2.86zM5.41 20L4 18.59l7.72-7.72 1.47 1.35L5.41 20z\"/>\n",
              "  </svg>\n",
              "      </button>\n",
              "      \n",
              "  <style>\n",
              "    .colab-df-container {\n",
              "      display:flex;\n",
              "      flex-wrap:wrap;\n",
              "      gap: 12px;\n",
              "    }\n",
              "\n",
              "    .colab-df-convert {\n",
              "      background-color: #E8F0FE;\n",
              "      border: none;\n",
              "      border-radius: 50%;\n",
              "      cursor: pointer;\n",
              "      display: none;\n",
              "      fill: #1967D2;\n",
              "      height: 32px;\n",
              "      padding: 0 0 0 0;\n",
              "      width: 32px;\n",
              "    }\n",
              "\n",
              "    .colab-df-convert:hover {\n",
              "      background-color: #E2EBFA;\n",
              "      box-shadow: 0px 1px 2px rgba(60, 64, 67, 0.3), 0px 1px 3px 1px rgba(60, 64, 67, 0.15);\n",
              "      fill: #174EA6;\n",
              "    }\n",
              "\n",
              "    [theme=dark] .colab-df-convert {\n",
              "      background-color: #3B4455;\n",
              "      fill: #D2E3FC;\n",
              "    }\n",
              "\n",
              "    [theme=dark] .colab-df-convert:hover {\n",
              "      background-color: #434B5C;\n",
              "      box-shadow: 0px 1px 3px 1px rgba(0, 0, 0, 0.15);\n",
              "      filter: drop-shadow(0px 1px 2px rgba(0, 0, 0, 0.3));\n",
              "      fill: #FFFFFF;\n",
              "    }\n",
              "  </style>\n",
              "\n",
              "      <script>\n",
              "        const buttonEl =\n",
              "          document.querySelector('#df-8979b2d9-98e6-4112-85ce-284bc9dcaa25 button.colab-df-convert');\n",
              "        buttonEl.style.display =\n",
              "          google.colab.kernel.accessAllowed ? 'block' : 'none';\n",
              "\n",
              "        async function convertToInteractive(key) {\n",
              "          const element = document.querySelector('#df-8979b2d9-98e6-4112-85ce-284bc9dcaa25');\n",
              "          const dataTable =\n",
              "            await google.colab.kernel.invokeFunction('convertToInteractive',\n",
              "                                                     [key], {});\n",
              "          if (!dataTable) return;\n",
              "\n",
              "          const docLinkHtml = 'Like what you see? Visit the ' +\n",
              "            '<a target=\"_blank\" href=https://colab.research.google.com/notebooks/data_table.ipynb>data table notebook</a>'\n",
              "            + ' to learn more about interactive tables.';\n",
              "          element.innerHTML = '';\n",
              "          dataTable['output_type'] = 'display_data';\n",
              "          await google.colab.output.renderOutput(dataTable, element);\n",
              "          const docLink = document.createElement('div');\n",
              "          docLink.innerHTML = docLinkHtml;\n",
              "          element.appendChild(docLink);\n",
              "        }\n",
              "      </script>\n",
              "    </div>\n",
              "  </div>\n",
              "  "
            ],
            "text/plain": [
              "   Sno  AGE     SEX  ... Mortality Y / N MORTALITY_DATE SRC_REGISTRATION\n",
              "0    1   56  Female  ...              NO            NaN                D\n",
              "1    2   37    Male  ...              NO            NaN                D\n",
              "2    3   50    Male  ...              NO            NaN                D\n",
              "\n",
              "[3 rows x 23 columns]"
            ]
          },
          "metadata": {},
          "execution_count": 2
        }
      ]
    },
    {
      "cell_type": "markdown",
      "metadata": {
        "id": "tsm8uZ0JMr5m"
      },
      "source": [
        "Bu dataset sug'urta kompaniyasining real ma'lumotlardan tuzilgan. Bu datasetda 480000 qator sug'urta ma'lumotlar tashkil topgan.\n",
        "Quyida datasetning ba'zi ustunlari haqida qisqacha ma'lumot\n",
        "\n",
        "*   Sno = seriya raqami \n",
        "*   AGE = yoshi\n",
        "*   SEX = jinsi (female = ayol, male = erkak)\n",
        "*   CASTE_NAME = kasta nomi (Hindistonda har bir inson ma'lum bir kastaga oid bo'ladi)\n",
        "*   CATEGORY_CODE = kategoriya kodi\n",
        "*   CATEGORY_Name = kategoriya nomi\n",
        "*   SURGERY_CODE = operatsiya kodi\n",
        "*   Mandal_Name = mandal nomlanishi ya'ni familiyasi desak ham bo'ladi\n",
        "*   Mortality Y/N = vafot etgan yoki vafot etmaganligi\n",
        "*   MORTALITY_DATE = qachon vafot etganligi\n",
        "\n",
        "\n",
        "\n"
      ]
    },
    {
      "cell_type": "markdown",
      "metadata": {
        "id": "FNLOb9yhxI0b"
      },
      "source": [
        "### **1-mashq**. Datasetdagi barcha takrorlangan qatorlar sonini toping"
      ]
    },
    {
      "cell_type": "code",
      "metadata": {
        "id": "o64K3q-UBNAm",
        "colab": {
          "base_uri": "https://localhost:8080/"
        },
        "outputId": "652aad85-b6f2-492e-a021-28813c548c68"
      },
      "source": [
        "# Javobni shuyerga yozing\n",
        "\n",
        "df.duplicated().sum()\n"
      ],
      "execution_count": 3,
      "outputs": [
        {
          "output_type": "execute_result",
          "data": {
            "text/plain": [
              "0"
            ]
          },
          "metadata": {},
          "execution_count": 3
        }
      ]
    },
    {
      "cell_type": "code",
      "metadata": {
        "id": "2aiD_0BiOrsy",
        "colab": {
          "base_uri": "https://localhost:8080/"
        },
        "outputId": "a2e13f28-93a1-43a4-db32-11aae77bc2ae"
      },
      "source": [
        "#@title **To'g'ri javob**\n",
        "sum(df.duplicated())"
      ],
      "execution_count": 4,
      "outputs": [
        {
          "output_type": "execute_result",
          "data": {
            "text/plain": [
              "0"
            ]
          },
          "metadata": {},
          "execution_count": 4
        }
      ]
    },
    {
      "cell_type": "markdown",
      "metadata": {
        "id": "9GJiUd445Kr1"
      },
      "source": [
        "#### **2-mashq**. Datasetdagi quyidagi ustunlar o'chirib yuborilsin:<br>\n",
        "*   Sno\n",
        "*   CATEGORY_CODE\n",
        "*   SURGERY_CODE\n",
        "*   MANDAL_NAME\n",
        "*   DISTRICT_NAME\n",
        "*   HOSP_DISTRICT\n",
        "<BR>\n"
      ]
    },
    {
      "cell_type": "code",
      "metadata": {
        "id": "W8LCqh3466n-"
      },
      "source": [
        "# Javobni shuyerga yozin\n",
        "df.drop([\"SURGERY_CODE\",\"MANDAL_NAME\",\"DISTRICT_NAME\",\"HOSP_DISTRICT\"],axis=1,inplace=True)"
      ],
      "execution_count": 14,
      "outputs": []
    },
    {
      "cell_type": "code",
      "metadata": {
        "id": "tQmeaOg19flk"
      },
      "source": [
        "#@title **To'g'ri javob**\n",
        "df.drop(['Sno','CATEGORY_CODE','SURGERY_CODE','MANDAL_NAME','DISTRICT_NAME','HOSP_DISTRICT'],axis='columns',inplace=True)\n",
        "df"
      ],
      "execution_count": null,
      "outputs": []
    },
    {
      "cell_type": "markdown",
      "metadata": {
        "id": "wVuuU-XZO-0Y"
      },
      "source": [
        "#### **3-mashq**. Datasetdagi sex(jinsi) nomli qatordagi qiymatlarni unique funksiyasi orqali tekshiring.\n",
        "\n",
        "\n"
      ]
    },
    {
      "cell_type": "code",
      "metadata": {
        "id": "i9e_7Icu0Xms",
        "colab": {
          "base_uri": "https://localhost:8080/"
        },
        "outputId": "85501f02-1eb1-41b6-a515-be99ac52898b"
      },
      "source": [
        "# Javobni shuyerga yozing\n",
        "df[\"SEX\"].unique()"
      ],
      "execution_count": 16,
      "outputs": [
        {
          "output_type": "execute_result",
          "data": {
            "text/plain": [
              "array(['Female', 'Male', 'Male(Child)', 'Female(Child)', 'FEMALE'],\n",
              "      dtype=object)"
            ]
          },
          "metadata": {},
          "execution_count": 16
        }
      ]
    },
    {
      "cell_type": "code",
      "metadata": {
        "cellView": "form",
        "id": "Wa7bvsLs05wT"
      },
      "source": [
        "#@title **To'g'ri javob**\n",
        "df[\"SEX\"].unique()\n"
      ],
      "execution_count": null,
      "outputs": []
    },
    {
      "cell_type": "markdown",
      "metadata": {
        "id": "nfwZ0uQo1xXm"
      },
      "source": [
        "#### **4-mashq**. Datasetdagi sex(jinsi) nomli qatordagi qiymatlarni **Erkak** va **Ayol** ga o'zgartiring:\n",
        "O'zgartirish quyidagicha bo'lsin:\n",
        "\n",
        "\n",
        "*   Male -> Erkak\n",
        "*   Male(child) -> Erkak\n",
        "*   Female - > Ayol\n",
        "*   Female(child) - Ayol\n",
        "*   MALE -> Erkak\n",
        "*   FEMALE -> Ayol\n",
        "\n",
        "\n",
        "\n"
      ]
    },
    {
      "cell_type": "code",
      "metadata": {
        "id": "54IqaOmz159z"
      },
      "source": [
        "# Javobni shuyerga yozing\n",
        "\n",
        "dict={\"Male\":\"Erkak\",\"Male(Child\":\"Erkak\",\"Female\":\"Ayol\",\"Female(Child)\":\"Ayol\",\"MALE\":\"Erkak\",\"FEMALE\":\"Ayol\"}"
      ],
      "execution_count": 17,
      "outputs": []
    },
    {
      "cell_type": "code",
      "source": [
        "df[\"SEX\"]=df[\"SEX\"].map(dict)"
      ],
      "metadata": {
        "id": "pRkI_RIWOarH"
      },
      "execution_count": 19,
      "outputs": []
    },
    {
      "cell_type": "code",
      "metadata": {
        "cellView": "form",
        "id": "ZM7XuQc31_Z1"
      },
      "source": [
        "#@title **To'g'ri javob**\n",
        "dict = {\"Male\":\"Erkak\",\"Male(child)\":\"Erkak\", \"Female\":\"Ayol\",\"Female(child)\":\"Ayol\",\"MALE\":\"Erkak\",\"FEMALE\":\"Ayol\"}\n",
        "df[\"SEX\"] = df[\"SEX\"].map(dict)"
      ],
      "execution_count": null,
      "outputs": []
    },
    {
      "cell_type": "markdown",
      "metadata": {
        "id": "t_KWHWqj3D38"
      },
      "source": [
        "#### **5-mashq**. Endi xuddi shu SEX columndagi ma'lumotlarni raqamlarga o'zgartiring: Erkaklarni 1 raqamiga, Ayollarni 0 raqamiga o'zgartiring.\n",
        "*   Erkak -> 1\n",
        "*   Ayol -> 0"
      ]
    },
    {
      "cell_type": "code",
      "metadata": {
        "id": "CU3ygcnh3LAd",
        "colab": {
          "base_uri": "https://localhost:8080/",
          "height": 547
        },
        "outputId": "bae3cf6b-63b1-4410-e677-e4549a2e9169"
      },
      "source": [
        "# Javobni shuyerga yozing\n",
        "df[\"SEX\"]=df[\"SEX\"].replace([\"Erkak\",\"Ayol\"],[1,0])\n",
        "df.head()"
      ],
      "execution_count": 22,
      "outputs": [
        {
          "output_type": "execute_result",
          "data": {
            "text/html": [
              "\n",
              "  <div id=\"df-1308ebe9-1cfa-44ec-9182-8c57dc2f8b74\">\n",
              "    <div class=\"colab-df-container\">\n",
              "      <div>\n",
              "<style scoped>\n",
              "    .dataframe tbody tr th:only-of-type {\n",
              "        vertical-align: middle;\n",
              "    }\n",
              "\n",
              "    .dataframe tbody tr th {\n",
              "        vertical-align: top;\n",
              "    }\n",
              "\n",
              "    .dataframe thead th {\n",
              "        text-align: right;\n",
              "    }\n",
              "</style>\n",
              "<table border=\"1\" class=\"dataframe\">\n",
              "  <thead>\n",
              "    <tr style=\"text-align: right;\">\n",
              "      <th></th>\n",
              "      <th>AGE</th>\n",
              "      <th>SEX</th>\n",
              "      <th>CASTE_NAME</th>\n",
              "      <th>CATEGORY_NAME</th>\n",
              "      <th>SURGERY</th>\n",
              "      <th>VILLAGE</th>\n",
              "      <th>PREAUTH_DATE</th>\n",
              "      <th>PREAUTH_AMT</th>\n",
              "      <th>CLAIM_DATE</th>\n",
              "      <th>CLAIM_AMOUNT</th>\n",
              "      <th>HOSP_NAME</th>\n",
              "      <th>HOSP_TYPE</th>\n",
              "      <th>SURGERY_DATE</th>\n",
              "      <th>DISCHARGE_DATE</th>\n",
              "      <th>Mortality Y / N</th>\n",
              "      <th>MORTALITY_DATE</th>\n",
              "      <th>SRC_REGISTRATION</th>\n",
              "    </tr>\n",
              "  </thead>\n",
              "  <tbody>\n",
              "    <tr>\n",
              "      <th>0</th>\n",
              "      <td>56</td>\n",
              "      <td>0.0</td>\n",
              "      <td>BC</td>\n",
              "      <td>NEPHROLOGY</td>\n",
              "      <td>Maintenance Hemodialysis For Crf</td>\n",
              "      <td>Lolugu</td>\n",
              "      <td>03-08-2013 20:38</td>\n",
              "      <td>12500</td>\n",
              "      <td>22-03-2017 20:25</td>\n",
              "      <td>11000</td>\n",
              "      <td>Rims Govt. General Hospital, Srikakulam</td>\n",
              "      <td>G</td>\n",
              "      <td>06-08-2013 00:00</td>\n",
              "      <td>07-09-2013 00:00</td>\n",
              "      <td>NO</td>\n",
              "      <td>NaN</td>\n",
              "      <td>D</td>\n",
              "    </tr>\n",
              "    <tr>\n",
              "      <th>1</th>\n",
              "      <td>37</td>\n",
              "      <td>1.0</td>\n",
              "      <td>BC</td>\n",
              "      <td>NEPHROLOGY</td>\n",
              "      <td>Maintenance Hemodialysis For Crf</td>\n",
              "      <td>Borivanka</td>\n",
              "      <td>06-08-2013 07:26</td>\n",
              "      <td>12500</td>\n",
              "      <td>22-03-2017 20:25</td>\n",
              "      <td>11000</td>\n",
              "      <td>Rims Govt. General Hospital, Srikakulam</td>\n",
              "      <td>G</td>\n",
              "      <td>08-08-2013 00:00</td>\n",
              "      <td>09-09-2013 00:00</td>\n",
              "      <td>NO</td>\n",
              "      <td>NaN</td>\n",
              "      <td>D</td>\n",
              "    </tr>\n",
              "    <tr>\n",
              "      <th>2</th>\n",
              "      <td>50</td>\n",
              "      <td>1.0</td>\n",
              "      <td>BC</td>\n",
              "      <td>NEPHROLOGY</td>\n",
              "      <td>Maintenance Hemodialysis For Crf</td>\n",
              "      <td>Kapasakuddi</td>\n",
              "      <td>09-08-2013 18:30</td>\n",
              "      <td>12500</td>\n",
              "      <td>22-03-2017 20:25</td>\n",
              "      <td>11500</td>\n",
              "      <td>Rims Govt. General Hospital, Srikakulam</td>\n",
              "      <td>G</td>\n",
              "      <td>15-08-2013 00:00</td>\n",
              "      <td>18-10-2013 00:00</td>\n",
              "      <td>NO</td>\n",
              "      <td>NaN</td>\n",
              "      <td>D</td>\n",
              "    </tr>\n",
              "    <tr>\n",
              "      <th>3</th>\n",
              "      <td>45</td>\n",
              "      <td>1.0</td>\n",
              "      <td>BC</td>\n",
              "      <td>NEPHROLOGY</td>\n",
              "      <td>Maintenance Hemodialysis For Crf</td>\n",
              "      <td>Telikipenta</td>\n",
              "      <td>24-08-2013 19:37</td>\n",
              "      <td>12500</td>\n",
              "      <td>22-03-2017 20:25</td>\n",
              "      <td>11000</td>\n",
              "      <td>Rims Govt. General Hospital, Srikakulam</td>\n",
              "      <td>G</td>\n",
              "      <td>24-08-2013 00:00</td>\n",
              "      <td>27-09-2013 00:00</td>\n",
              "      <td>NO</td>\n",
              "      <td>NaN</td>\n",
              "      <td>D</td>\n",
              "    </tr>\n",
              "    <tr>\n",
              "      <th>4</th>\n",
              "      <td>54</td>\n",
              "      <td>1.0</td>\n",
              "      <td>BC</td>\n",
              "      <td>NEPHROLOGY</td>\n",
              "      <td>Maintenance Hemodialysis For Crf</td>\n",
              "      <td>Thandemvalasa</td>\n",
              "      <td>28-08-2013 17:03</td>\n",
              "      <td>12500</td>\n",
              "      <td>22-03-2017 20:25</td>\n",
              "      <td>11000</td>\n",
              "      <td>Rims Govt. General Hospital, Srikakulam</td>\n",
              "      <td>G</td>\n",
              "      <td>31-08-2013 00:00</td>\n",
              "      <td>02-10-2013 00:00</td>\n",
              "      <td>NO</td>\n",
              "      <td>NaN</td>\n",
              "      <td>D</td>\n",
              "    </tr>\n",
              "  </tbody>\n",
              "</table>\n",
              "</div>\n",
              "      <button class=\"colab-df-convert\" onclick=\"convertToInteractive('df-1308ebe9-1cfa-44ec-9182-8c57dc2f8b74')\"\n",
              "              title=\"Convert this dataframe to an interactive table.\"\n",
              "              style=\"display:none;\">\n",
              "        \n",
              "  <svg xmlns=\"http://www.w3.org/2000/svg\" height=\"24px\"viewBox=\"0 0 24 24\"\n",
              "       width=\"24px\">\n",
              "    <path d=\"M0 0h24v24H0V0z\" fill=\"none\"/>\n",
              "    <path d=\"M18.56 5.44l.94 2.06.94-2.06 2.06-.94-2.06-.94-.94-2.06-.94 2.06-2.06.94zm-11 1L8.5 8.5l.94-2.06 2.06-.94-2.06-.94L8.5 2.5l-.94 2.06-2.06.94zm10 10l.94 2.06.94-2.06 2.06-.94-2.06-.94-.94-2.06-.94 2.06-2.06.94z\"/><path d=\"M17.41 7.96l-1.37-1.37c-.4-.4-.92-.59-1.43-.59-.52 0-1.04.2-1.43.59L10.3 9.45l-7.72 7.72c-.78.78-.78 2.05 0 2.83L4 21.41c.39.39.9.59 1.41.59.51 0 1.02-.2 1.41-.59l7.78-7.78 2.81-2.81c.8-.78.8-2.07 0-2.86zM5.41 20L4 18.59l7.72-7.72 1.47 1.35L5.41 20z\"/>\n",
              "  </svg>\n",
              "      </button>\n",
              "      \n",
              "  <style>\n",
              "    .colab-df-container {\n",
              "      display:flex;\n",
              "      flex-wrap:wrap;\n",
              "      gap: 12px;\n",
              "    }\n",
              "\n",
              "    .colab-df-convert {\n",
              "      background-color: #E8F0FE;\n",
              "      border: none;\n",
              "      border-radius: 50%;\n",
              "      cursor: pointer;\n",
              "      display: none;\n",
              "      fill: #1967D2;\n",
              "      height: 32px;\n",
              "      padding: 0 0 0 0;\n",
              "      width: 32px;\n",
              "    }\n",
              "\n",
              "    .colab-df-convert:hover {\n",
              "      background-color: #E2EBFA;\n",
              "      box-shadow: 0px 1px 2px rgba(60, 64, 67, 0.3), 0px 1px 3px 1px rgba(60, 64, 67, 0.15);\n",
              "      fill: #174EA6;\n",
              "    }\n",
              "\n",
              "    [theme=dark] .colab-df-convert {\n",
              "      background-color: #3B4455;\n",
              "      fill: #D2E3FC;\n",
              "    }\n",
              "\n",
              "    [theme=dark] .colab-df-convert:hover {\n",
              "      background-color: #434B5C;\n",
              "      box-shadow: 0px 1px 3px 1px rgba(0, 0, 0, 0.15);\n",
              "      filter: drop-shadow(0px 1px 2px rgba(0, 0, 0, 0.3));\n",
              "      fill: #FFFFFF;\n",
              "    }\n",
              "  </style>\n",
              "\n",
              "      <script>\n",
              "        const buttonEl =\n",
              "          document.querySelector('#df-1308ebe9-1cfa-44ec-9182-8c57dc2f8b74 button.colab-df-convert');\n",
              "        buttonEl.style.display =\n",
              "          google.colab.kernel.accessAllowed ? 'block' : 'none';\n",
              "\n",
              "        async function convertToInteractive(key) {\n",
              "          const element = document.querySelector('#df-1308ebe9-1cfa-44ec-9182-8c57dc2f8b74');\n",
              "          const dataTable =\n",
              "            await google.colab.kernel.invokeFunction('convertToInteractive',\n",
              "                                                     [key], {});\n",
              "          if (!dataTable) return;\n",
              "\n",
              "          const docLinkHtml = 'Like what you see? Visit the ' +\n",
              "            '<a target=\"_blank\" href=https://colab.research.google.com/notebooks/data_table.ipynb>data table notebook</a>'\n",
              "            + ' to learn more about interactive tables.';\n",
              "          element.innerHTML = '';\n",
              "          dataTable['output_type'] = 'display_data';\n",
              "          await google.colab.output.renderOutput(dataTable, element);\n",
              "          const docLink = document.createElement('div');\n",
              "          docLink.innerHTML = docLinkHtml;\n",
              "          element.appendChild(docLink);\n",
              "        }\n",
              "      </script>\n",
              "    </div>\n",
              "  </div>\n",
              "  "
            ],
            "text/plain": [
              "   AGE  SEX CASTE_NAME  ... Mortality Y / N MORTALITY_DATE SRC_REGISTRATION\n",
              "0   56  0.0         BC  ...              NO            NaN                D\n",
              "1   37  1.0         BC  ...              NO            NaN                D\n",
              "2   50  1.0         BC  ...              NO            NaN                D\n",
              "3   45  1.0         BC  ...              NO            NaN                D\n",
              "4   54  1.0         BC  ...              NO            NaN                D\n",
              "\n",
              "[5 rows x 17 columns]"
            ]
          },
          "metadata": {},
          "execution_count": 22
        }
      ]
    },
    {
      "cell_type": "code",
      "metadata": {
        "id": "Ou0DKvEm3ZxW"
      },
      "source": [
        "#@title **To'g'ri javob**\n",
        "dict2 = {'Erkak':1, 'Ayol':0}\n",
        "df[\"SEX\"] = df[\"SEX\"].map(dict2)\n",
        "df.head(5)"
      ],
      "execution_count": null,
      "outputs": []
    },
    {
      "cell_type": "markdown",
      "metadata": {
        "id": "i4n7ulS75WA4"
      },
      "source": [
        "#### **6-mashq**. Shu jarayonni HOSP_TYPE ustuni uchun ham amalga oshiring. \n",
        "*   G - General hospital (umumiy kasalxona) degani\n",
        "*   C - Special hospital (maxsus kasalxona) degani\n",
        "<br><b>O'zgarish quyidagicha bo'lsin:</b>\n",
        "*   G -> Umumiy \n",
        "*   C -> Maxsus\n"
      ]
    },
    {
      "cell_type": "code",
      "metadata": {
        "id": "BEokSEre43GK",
        "colab": {
          "base_uri": "https://localhost:8080/",
          "height": 547
        },
        "outputId": "c101ee7f-4e1f-4142-b312-a36a57079fb0"
      },
      "source": [
        "# Javobni shuyerga yozing\n",
        "\n",
        "df[\"HOSP_TYPE\"]=df[\"HOSP_TYPE\"].replace([\"G\",\"C\"],[\"Umumiy\",\"Maxsus\"])\n",
        "df.head()\n"
      ],
      "execution_count": 25,
      "outputs": [
        {
          "output_type": "execute_result",
          "data": {
            "text/html": [
              "\n",
              "  <div id=\"df-c2e619d6-1ae1-450e-af9a-9330a43c0f0d\">\n",
              "    <div class=\"colab-df-container\">\n",
              "      <div>\n",
              "<style scoped>\n",
              "    .dataframe tbody tr th:only-of-type {\n",
              "        vertical-align: middle;\n",
              "    }\n",
              "\n",
              "    .dataframe tbody tr th {\n",
              "        vertical-align: top;\n",
              "    }\n",
              "\n",
              "    .dataframe thead th {\n",
              "        text-align: right;\n",
              "    }\n",
              "</style>\n",
              "<table border=\"1\" class=\"dataframe\">\n",
              "  <thead>\n",
              "    <tr style=\"text-align: right;\">\n",
              "      <th></th>\n",
              "      <th>AGE</th>\n",
              "      <th>SEX</th>\n",
              "      <th>CASTE_NAME</th>\n",
              "      <th>CATEGORY_NAME</th>\n",
              "      <th>SURGERY</th>\n",
              "      <th>VILLAGE</th>\n",
              "      <th>PREAUTH_DATE</th>\n",
              "      <th>PREAUTH_AMT</th>\n",
              "      <th>CLAIM_DATE</th>\n",
              "      <th>CLAIM_AMOUNT</th>\n",
              "      <th>HOSP_NAME</th>\n",
              "      <th>HOSP_TYPE</th>\n",
              "      <th>SURGERY_DATE</th>\n",
              "      <th>DISCHARGE_DATE</th>\n",
              "      <th>Mortality Y / N</th>\n",
              "      <th>MORTALITY_DATE</th>\n",
              "      <th>SRC_REGISTRATION</th>\n",
              "    </tr>\n",
              "  </thead>\n",
              "  <tbody>\n",
              "    <tr>\n",
              "      <th>0</th>\n",
              "      <td>56</td>\n",
              "      <td>0.0</td>\n",
              "      <td>BC</td>\n",
              "      <td>NEPHROLOGY</td>\n",
              "      <td>Maintenance Hemodialysis For Crf</td>\n",
              "      <td>Lolugu</td>\n",
              "      <td>03-08-2013 20:38</td>\n",
              "      <td>12500</td>\n",
              "      <td>22-03-2017 20:25</td>\n",
              "      <td>11000</td>\n",
              "      <td>Rims Govt. General Hospital, Srikakulam</td>\n",
              "      <td>Umumiy</td>\n",
              "      <td>06-08-2013 00:00</td>\n",
              "      <td>07-09-2013 00:00</td>\n",
              "      <td>NO</td>\n",
              "      <td>NaN</td>\n",
              "      <td>D</td>\n",
              "    </tr>\n",
              "    <tr>\n",
              "      <th>1</th>\n",
              "      <td>37</td>\n",
              "      <td>1.0</td>\n",
              "      <td>BC</td>\n",
              "      <td>NEPHROLOGY</td>\n",
              "      <td>Maintenance Hemodialysis For Crf</td>\n",
              "      <td>Borivanka</td>\n",
              "      <td>06-08-2013 07:26</td>\n",
              "      <td>12500</td>\n",
              "      <td>22-03-2017 20:25</td>\n",
              "      <td>11000</td>\n",
              "      <td>Rims Govt. General Hospital, Srikakulam</td>\n",
              "      <td>Umumiy</td>\n",
              "      <td>08-08-2013 00:00</td>\n",
              "      <td>09-09-2013 00:00</td>\n",
              "      <td>NO</td>\n",
              "      <td>NaN</td>\n",
              "      <td>D</td>\n",
              "    </tr>\n",
              "    <tr>\n",
              "      <th>2</th>\n",
              "      <td>50</td>\n",
              "      <td>1.0</td>\n",
              "      <td>BC</td>\n",
              "      <td>NEPHROLOGY</td>\n",
              "      <td>Maintenance Hemodialysis For Crf</td>\n",
              "      <td>Kapasakuddi</td>\n",
              "      <td>09-08-2013 18:30</td>\n",
              "      <td>12500</td>\n",
              "      <td>22-03-2017 20:25</td>\n",
              "      <td>11500</td>\n",
              "      <td>Rims Govt. General Hospital, Srikakulam</td>\n",
              "      <td>Umumiy</td>\n",
              "      <td>15-08-2013 00:00</td>\n",
              "      <td>18-10-2013 00:00</td>\n",
              "      <td>NO</td>\n",
              "      <td>NaN</td>\n",
              "      <td>D</td>\n",
              "    </tr>\n",
              "    <tr>\n",
              "      <th>3</th>\n",
              "      <td>45</td>\n",
              "      <td>1.0</td>\n",
              "      <td>BC</td>\n",
              "      <td>NEPHROLOGY</td>\n",
              "      <td>Maintenance Hemodialysis For Crf</td>\n",
              "      <td>Telikipenta</td>\n",
              "      <td>24-08-2013 19:37</td>\n",
              "      <td>12500</td>\n",
              "      <td>22-03-2017 20:25</td>\n",
              "      <td>11000</td>\n",
              "      <td>Rims Govt. General Hospital, Srikakulam</td>\n",
              "      <td>Umumiy</td>\n",
              "      <td>24-08-2013 00:00</td>\n",
              "      <td>27-09-2013 00:00</td>\n",
              "      <td>NO</td>\n",
              "      <td>NaN</td>\n",
              "      <td>D</td>\n",
              "    </tr>\n",
              "    <tr>\n",
              "      <th>4</th>\n",
              "      <td>54</td>\n",
              "      <td>1.0</td>\n",
              "      <td>BC</td>\n",
              "      <td>NEPHROLOGY</td>\n",
              "      <td>Maintenance Hemodialysis For Crf</td>\n",
              "      <td>Thandemvalasa</td>\n",
              "      <td>28-08-2013 17:03</td>\n",
              "      <td>12500</td>\n",
              "      <td>22-03-2017 20:25</td>\n",
              "      <td>11000</td>\n",
              "      <td>Rims Govt. General Hospital, Srikakulam</td>\n",
              "      <td>Umumiy</td>\n",
              "      <td>31-08-2013 00:00</td>\n",
              "      <td>02-10-2013 00:00</td>\n",
              "      <td>NO</td>\n",
              "      <td>NaN</td>\n",
              "      <td>D</td>\n",
              "    </tr>\n",
              "  </tbody>\n",
              "</table>\n",
              "</div>\n",
              "      <button class=\"colab-df-convert\" onclick=\"convertToInteractive('df-c2e619d6-1ae1-450e-af9a-9330a43c0f0d')\"\n",
              "              title=\"Convert this dataframe to an interactive table.\"\n",
              "              style=\"display:none;\">\n",
              "        \n",
              "  <svg xmlns=\"http://www.w3.org/2000/svg\" height=\"24px\"viewBox=\"0 0 24 24\"\n",
              "       width=\"24px\">\n",
              "    <path d=\"M0 0h24v24H0V0z\" fill=\"none\"/>\n",
              "    <path d=\"M18.56 5.44l.94 2.06.94-2.06 2.06-.94-2.06-.94-.94-2.06-.94 2.06-2.06.94zm-11 1L8.5 8.5l.94-2.06 2.06-.94-2.06-.94L8.5 2.5l-.94 2.06-2.06.94zm10 10l.94 2.06.94-2.06 2.06-.94-2.06-.94-.94-2.06-.94 2.06-2.06.94z\"/><path d=\"M17.41 7.96l-1.37-1.37c-.4-.4-.92-.59-1.43-.59-.52 0-1.04.2-1.43.59L10.3 9.45l-7.72 7.72c-.78.78-.78 2.05 0 2.83L4 21.41c.39.39.9.59 1.41.59.51 0 1.02-.2 1.41-.59l7.78-7.78 2.81-2.81c.8-.78.8-2.07 0-2.86zM5.41 20L4 18.59l7.72-7.72 1.47 1.35L5.41 20z\"/>\n",
              "  </svg>\n",
              "      </button>\n",
              "      \n",
              "  <style>\n",
              "    .colab-df-container {\n",
              "      display:flex;\n",
              "      flex-wrap:wrap;\n",
              "      gap: 12px;\n",
              "    }\n",
              "\n",
              "    .colab-df-convert {\n",
              "      background-color: #E8F0FE;\n",
              "      border: none;\n",
              "      border-radius: 50%;\n",
              "      cursor: pointer;\n",
              "      display: none;\n",
              "      fill: #1967D2;\n",
              "      height: 32px;\n",
              "      padding: 0 0 0 0;\n",
              "      width: 32px;\n",
              "    }\n",
              "\n",
              "    .colab-df-convert:hover {\n",
              "      background-color: #E2EBFA;\n",
              "      box-shadow: 0px 1px 2px rgba(60, 64, 67, 0.3), 0px 1px 3px 1px rgba(60, 64, 67, 0.15);\n",
              "      fill: #174EA6;\n",
              "    }\n",
              "\n",
              "    [theme=dark] .colab-df-convert {\n",
              "      background-color: #3B4455;\n",
              "      fill: #D2E3FC;\n",
              "    }\n",
              "\n",
              "    [theme=dark] .colab-df-convert:hover {\n",
              "      background-color: #434B5C;\n",
              "      box-shadow: 0px 1px 3px 1px rgba(0, 0, 0, 0.15);\n",
              "      filter: drop-shadow(0px 1px 2px rgba(0, 0, 0, 0.3));\n",
              "      fill: #FFFFFF;\n",
              "    }\n",
              "  </style>\n",
              "\n",
              "      <script>\n",
              "        const buttonEl =\n",
              "          document.querySelector('#df-c2e619d6-1ae1-450e-af9a-9330a43c0f0d button.colab-df-convert');\n",
              "        buttonEl.style.display =\n",
              "          google.colab.kernel.accessAllowed ? 'block' : 'none';\n",
              "\n",
              "        async function convertToInteractive(key) {\n",
              "          const element = document.querySelector('#df-c2e619d6-1ae1-450e-af9a-9330a43c0f0d');\n",
              "          const dataTable =\n",
              "            await google.colab.kernel.invokeFunction('convertToInteractive',\n",
              "                                                     [key], {});\n",
              "          if (!dataTable) return;\n",
              "\n",
              "          const docLinkHtml = 'Like what you see? Visit the ' +\n",
              "            '<a target=\"_blank\" href=https://colab.research.google.com/notebooks/data_table.ipynb>data table notebook</a>'\n",
              "            + ' to learn more about interactive tables.';\n",
              "          element.innerHTML = '';\n",
              "          dataTable['output_type'] = 'display_data';\n",
              "          await google.colab.output.renderOutput(dataTable, element);\n",
              "          const docLink = document.createElement('div');\n",
              "          docLink.innerHTML = docLinkHtml;\n",
              "          element.appendChild(docLink);\n",
              "        }\n",
              "      </script>\n",
              "    </div>\n",
              "  </div>\n",
              "  "
            ],
            "text/plain": [
              "   AGE  SEX CASTE_NAME  ... Mortality Y / N MORTALITY_DATE SRC_REGISTRATION\n",
              "0   56  0.0         BC  ...              NO            NaN                D\n",
              "1   37  1.0         BC  ...              NO            NaN                D\n",
              "2   50  1.0         BC  ...              NO            NaN                D\n",
              "3   45  1.0         BC  ...              NO            NaN                D\n",
              "4   54  1.0         BC  ...              NO            NaN                D\n",
              "\n",
              "[5 rows x 17 columns]"
            ]
          },
          "metadata": {},
          "execution_count": 25
        }
      ]
    },
    {
      "cell_type": "code",
      "metadata": {
        "cellView": "form",
        "id": "ALhBzKu35lBb"
      },
      "source": [
        "#@title **To'g'ri javob**\n",
        "df[\"HOSP_TYPE\"] = df[\"HOSP_TYPE\"].map({'G':\"Umumiy\", 'C':\"Maxsus\"})\n"
      ],
      "execution_count": null,
      "outputs": []
    },
    {
      "cell_type": "markdown",
      "metadata": {
        "id": "4YozaezB4qqa"
      },
      "source": [
        "#### **7-mashq**. O'zgartirish amalga oshirilgach, HOSP_TYPE ustunida qancha Umumiy va qancha Maxsus kasalxonalar borligini ham aniqlang\n"
      ]
    },
    {
      "cell_type": "code",
      "metadata": {
        "id": "XNa8b4s25IUN",
        "colab": {
          "base_uri": "https://localhost:8080/"
        },
        "outputId": "bddc26e5-91b6-4f68-fdd1-21cc3f155701"
      },
      "source": [
        "# Javobni shuyerga yozing\n",
        "\n",
        "df[\"HOSP_TYPE\"].value_counts()"
      ],
      "execution_count": 26,
      "outputs": [
        {
          "output_type": "execute_result",
          "data": {
            "text/plain": [
              "Maxsus    241139\n",
              "Umumiy     94255\n",
              "Name: HOSP_TYPE, dtype: int64"
            ]
          },
          "metadata": {},
          "execution_count": 26
        }
      ]
    },
    {
      "cell_type": "code",
      "metadata": {
        "cellView": "form",
        "id": "j472LUxgU0P-"
      },
      "source": [
        "#@title **To'g'ri javob**\n",
        "df[\"HOSP_TYPE\"].value_counts()"
      ],
      "execution_count": null,
      "outputs": []
    },
    {
      "cell_type": "markdown",
      "metadata": {
        "id": "kEr2LYiJ_I-k"
      },
      "source": [
        "#### **8-mashq**. Datasetda qancha takrorlangan qatorlar borligini aniqlang  \n"
      ]
    },
    {
      "cell_type": "code",
      "metadata": {
        "id": "7EzWPhDZ_i5o",
        "colab": {
          "base_uri": "https://localhost:8080/"
        },
        "outputId": "fc4ad42b-7bca-4a56-a7c6-8e069412d1a4"
      },
      "source": [
        "# Javobni shuyerga yozing\n",
        "df.duplicated().sum()\n"
      ],
      "execution_count": 29,
      "outputs": [
        {
          "output_type": "execute_result",
          "data": {
            "text/plain": [
              "30"
            ]
          },
          "metadata": {},
          "execution_count": 29
        }
      ]
    },
    {
      "cell_type": "code",
      "metadata": {
        "id": "J3yF9CKM5eTs",
        "colab": {
          "base_uri": "https://localhost:8080/"
        },
        "outputId": "761b570c-044b-4921-c28a-9357080e0112"
      },
      "source": [
        "#@title **To'g'ri javob**\n",
        "sum(df.duplicated())"
      ],
      "execution_count": 30,
      "outputs": [
        {
          "output_type": "execute_result",
          "data": {
            "text/plain": [
              "30"
            ]
          },
          "metadata": {},
          "execution_count": 30
        }
      ]
    },
    {
      "cell_type": "markdown",
      "metadata": {
        "id": "6gphfgtd_nJK"
      },
      "source": [
        "#### **9-mashq**. Datasetda barcha takrorlangan qatorlarni o'chirib yuboring  \n"
      ]
    },
    {
      "cell_type": "code",
      "metadata": {
        "id": "DdsEuZXg_tEd"
      },
      "source": [
        "# Javobni shuyerga yozing\n",
        "\n",
        "df.drop_duplicates(inplace=True)"
      ],
      "execution_count": 31,
      "outputs": []
    },
    {
      "cell_type": "code",
      "metadata": {
        "id": "sy_c4uyI_t6f"
      },
      "source": [
        "#@title **To'g'ri javob**\n",
        "df.drop_duplicates(inplace=True)"
      ],
      "execution_count": null,
      "outputs": []
    },
    {
      "cell_type": "markdown",
      "metadata": {
        "id": "bN26F9LP_2RE"
      },
      "source": [
        "#### **10-mashq**. Datasetdan shifoxona turiga ko'ra (umumiy va maxsus), ClAIM_AMOUNTning o'rtacha qiymatlarini toping.\n"
      ]
    },
    {
      "cell_type": "code",
      "metadata": {
        "id": "t2NcocXLFI78",
        "colab": {
          "base_uri": "https://localhost:8080/"
        },
        "outputId": "84c72f19-59fd-4787-e3b9-e14d19e93ffc"
      },
      "source": [
        "# Javobni shuyerga yozing\n",
        "df.groupby(\"HOSP_TYPE\").CLAIM_AMOUNT.mean()\n"
      ],
      "execution_count": 33,
      "outputs": [
        {
          "output_type": "execute_result",
          "data": {
            "text/plain": [
              "HOSP_TYPE\n",
              "Maxsus    30275.151848\n",
              "Umumiy    22683.770100\n",
              "Name: CLAIM_AMOUNT, dtype: float64"
            ]
          },
          "metadata": {},
          "execution_count": 33
        }
      ]
    },
    {
      "cell_type": "code",
      "metadata": {
        "cellView": "form",
        "id": "vpa7vDJWAc6u"
      },
      "source": [
        "#@title **To'g'ri javob**\n",
        "df.groupby('HOSP_TYPE').CLAIM_AMOUNT.mean()\n"
      ],
      "execution_count": null,
      "outputs": []
    },
    {
      "cell_type": "markdown",
      "metadata": {
        "id": "7QnvZvW6F3Su"
      },
      "source": [
        "#### **11-mashq**. Datasetdan shifoxona turiga ko'ra (umumiy va maxsus), ClAIM_AMOUNTning minimum qiymatlarini toping.\n"
      ]
    },
    {
      "cell_type": "code",
      "metadata": {
        "id": "5K42PI7tF0On",
        "colab": {
          "base_uri": "https://localhost:8080/"
        },
        "outputId": "6d117407-0013-4745-9af8-124950dbb1c6"
      },
      "source": [
        "# Javobni shuyerga yozing\n",
        "df.groupby(\"HOSP_TYPE\").CLAIM_AMOUNT.min()"
      ],
      "execution_count": 34,
      "outputs": [
        {
          "output_type": "execute_result",
          "data": {
            "text/plain": [
              "HOSP_TYPE\n",
              "Maxsus    2\n",
              "Umumiy    2\n",
              "Name: CLAIM_AMOUNT, dtype: int64"
            ]
          },
          "metadata": {},
          "execution_count": 34
        }
      ]
    },
    {
      "cell_type": "code",
      "metadata": {
        "cellView": "form",
        "id": "znwYPfq5F0Sy"
      },
      "source": [
        "#@title **To'g'ri javob**\n",
        "df.groupby('HOSP_TYPE').CLAIM_AMOUNT.min()"
      ],
      "execution_count": null,
      "outputs": []
    },
    {
      "cell_type": "markdown",
      "metadata": {
        "id": "KQKllXlaF5D7"
      },
      "source": [
        "#### **12-mashq**. Datasetdan shifoxona turiga ko'ra (umumiy va maxsus), CLAIM_AMOUNTning maksimum qiymatlarini toping.\n"
      ]
    },
    {
      "cell_type": "code",
      "metadata": {
        "id": "7RNQVzsCF8-m",
        "colab": {
          "base_uri": "https://localhost:8080/"
        },
        "outputId": "2ad7e9d9-d38c-4620-c97d-753330be4c7a"
      },
      "source": [
        "# Javobni shuyerga yozing\n",
        "\n",
        "df.groupby(\"HOSP_TYPE\").CLAIM_AMOUNT.max()"
      ],
      "execution_count": 35,
      "outputs": [
        {
          "output_type": "execute_result",
          "data": {
            "text/plain": [
              "HOSP_TYPE\n",
              "Maxsus    520000\n",
              "Umumiy    520000\n",
              "Name: CLAIM_AMOUNT, dtype: int64"
            ]
          },
          "metadata": {},
          "execution_count": 35
        }
      ]
    },
    {
      "cell_type": "code",
      "metadata": {
        "cellView": "form",
        "id": "PM-8O6dZF-c_"
      },
      "source": [
        "#@title **To'g'ri javob**\n",
        "df.groupby('HOSP_TYPE').CLAIM_AMOUNT.max()"
      ],
      "execution_count": null,
      "outputs": []
    },
    {
      "cell_type": "markdown",
      "metadata": {
        "id": "JhL3fPU4HJkK"
      },
      "source": [
        ".agg() yordamida istalgan funksiyalarni chaqirishimiz mumkin, misol uchun numpy dagi mean (o'rta qiymat) funiksiyasini ham qo'shamiz. Natijalarni faqat price ustuni uchun chiqaramiz:"
      ]
    },
    {
      "cell_type": "markdown",
      "metadata": {
        "id": "ZaAwTY8RHLBB"
      },
      "source": [
        "#### **13-mashq**. Datasetdan jinsiga ko'ra CLAIM_AMOUNTning min, max va o'rta qiymatlarni agg() usuli yordamida toping.\n",
        "\n"
      ]
    },
    {
      "cell_type": "code",
      "metadata": {
        "id": "-X_HduSGH00I",
        "colab": {
          "base_uri": "https://localhost:8080/",
          "height": 144
        },
        "outputId": "9a90a1ca-4f39-42bd-f13c-38a008df1fc0"
      },
      "source": [
        "# Javobni shuyerga yozing\n",
        "\n",
        "df.groupby(\"SEX\").CLAIM_AMOUNT.agg([min,max,np.mean])"
      ],
      "execution_count": 43,
      "outputs": [
        {
          "output_type": "execute_result",
          "data": {
            "text/html": [
              "\n",
              "  <div id=\"df-5382fb45-1dd8-4f71-96b6-a2c43cdd7cba\">\n",
              "    <div class=\"colab-df-container\">\n",
              "      <div>\n",
              "<style scoped>\n",
              "    .dataframe tbody tr th:only-of-type {\n",
              "        vertical-align: middle;\n",
              "    }\n",
              "\n",
              "    .dataframe tbody tr th {\n",
              "        vertical-align: top;\n",
              "    }\n",
              "\n",
              "    .dataframe thead th {\n",
              "        text-align: right;\n",
              "    }\n",
              "</style>\n",
              "<table border=\"1\" class=\"dataframe\">\n",
              "  <thead>\n",
              "    <tr style=\"text-align: right;\">\n",
              "      <th></th>\n",
              "      <th>min</th>\n",
              "      <th>max</th>\n",
              "      <th>mean</th>\n",
              "    </tr>\n",
              "    <tr>\n",
              "      <th>SEX</th>\n",
              "      <th></th>\n",
              "      <th></th>\n",
              "      <th></th>\n",
              "    </tr>\n",
              "  </thead>\n",
              "  <tbody>\n",
              "    <tr>\n",
              "      <th>0.0</th>\n",
              "      <td>2</td>\n",
              "      <td>520000</td>\n",
              "      <td>25960.356579</td>\n",
              "    </tr>\n",
              "    <tr>\n",
              "      <th>1.0</th>\n",
              "      <td>2</td>\n",
              "      <td>205000</td>\n",
              "      <td>29636.456810</td>\n",
              "    </tr>\n",
              "  </tbody>\n",
              "</table>\n",
              "</div>\n",
              "      <button class=\"colab-df-convert\" onclick=\"convertToInteractive('df-5382fb45-1dd8-4f71-96b6-a2c43cdd7cba')\"\n",
              "              title=\"Convert this dataframe to an interactive table.\"\n",
              "              style=\"display:none;\">\n",
              "        \n",
              "  <svg xmlns=\"http://www.w3.org/2000/svg\" height=\"24px\"viewBox=\"0 0 24 24\"\n",
              "       width=\"24px\">\n",
              "    <path d=\"M0 0h24v24H0V0z\" fill=\"none\"/>\n",
              "    <path d=\"M18.56 5.44l.94 2.06.94-2.06 2.06-.94-2.06-.94-.94-2.06-.94 2.06-2.06.94zm-11 1L8.5 8.5l.94-2.06 2.06-.94-2.06-.94L8.5 2.5l-.94 2.06-2.06.94zm10 10l.94 2.06.94-2.06 2.06-.94-2.06-.94-.94-2.06-.94 2.06-2.06.94z\"/><path d=\"M17.41 7.96l-1.37-1.37c-.4-.4-.92-.59-1.43-.59-.52 0-1.04.2-1.43.59L10.3 9.45l-7.72 7.72c-.78.78-.78 2.05 0 2.83L4 21.41c.39.39.9.59 1.41.59.51 0 1.02-.2 1.41-.59l7.78-7.78 2.81-2.81c.8-.78.8-2.07 0-2.86zM5.41 20L4 18.59l7.72-7.72 1.47 1.35L5.41 20z\"/>\n",
              "  </svg>\n",
              "      </button>\n",
              "      \n",
              "  <style>\n",
              "    .colab-df-container {\n",
              "      display:flex;\n",
              "      flex-wrap:wrap;\n",
              "      gap: 12px;\n",
              "    }\n",
              "\n",
              "    .colab-df-convert {\n",
              "      background-color: #E8F0FE;\n",
              "      border: none;\n",
              "      border-radius: 50%;\n",
              "      cursor: pointer;\n",
              "      display: none;\n",
              "      fill: #1967D2;\n",
              "      height: 32px;\n",
              "      padding: 0 0 0 0;\n",
              "      width: 32px;\n",
              "    }\n",
              "\n",
              "    .colab-df-convert:hover {\n",
              "      background-color: #E2EBFA;\n",
              "      box-shadow: 0px 1px 2px rgba(60, 64, 67, 0.3), 0px 1px 3px 1px rgba(60, 64, 67, 0.15);\n",
              "      fill: #174EA6;\n",
              "    }\n",
              "\n",
              "    [theme=dark] .colab-df-convert {\n",
              "      background-color: #3B4455;\n",
              "      fill: #D2E3FC;\n",
              "    }\n",
              "\n",
              "    [theme=dark] .colab-df-convert:hover {\n",
              "      background-color: #434B5C;\n",
              "      box-shadow: 0px 1px 3px 1px rgba(0, 0, 0, 0.15);\n",
              "      filter: drop-shadow(0px 1px 2px rgba(0, 0, 0, 0.3));\n",
              "      fill: #FFFFFF;\n",
              "    }\n",
              "  </style>\n",
              "\n",
              "      <script>\n",
              "        const buttonEl =\n",
              "          document.querySelector('#df-5382fb45-1dd8-4f71-96b6-a2c43cdd7cba button.colab-df-convert');\n",
              "        buttonEl.style.display =\n",
              "          google.colab.kernel.accessAllowed ? 'block' : 'none';\n",
              "\n",
              "        async function convertToInteractive(key) {\n",
              "          const element = document.querySelector('#df-5382fb45-1dd8-4f71-96b6-a2c43cdd7cba');\n",
              "          const dataTable =\n",
              "            await google.colab.kernel.invokeFunction('convertToInteractive',\n",
              "                                                     [key], {});\n",
              "          if (!dataTable) return;\n",
              "\n",
              "          const docLinkHtml = 'Like what you see? Visit the ' +\n",
              "            '<a target=\"_blank\" href=https://colab.research.google.com/notebooks/data_table.ipynb>data table notebook</a>'\n",
              "            + ' to learn more about interactive tables.';\n",
              "          element.innerHTML = '';\n",
              "          dataTable['output_type'] = 'display_data';\n",
              "          await google.colab.output.renderOutput(dataTable, element);\n",
              "          const docLink = document.createElement('div');\n",
              "          docLink.innerHTML = docLinkHtml;\n",
              "          element.appendChild(docLink);\n",
              "        }\n",
              "      </script>\n",
              "    </div>\n",
              "  </div>\n",
              "  "
            ],
            "text/plain": [
              "     min     max          mean\n",
              "SEX                           \n",
              "0.0    2  520000  25960.356579\n",
              "1.0    2  205000  29636.456810"
            ]
          },
          "metadata": {},
          "execution_count": 43
        }
      ]
    },
    {
      "cell_type": "code",
      "metadata": {
        "cellView": "form",
        "id": "3372GXlAHsvB"
      },
      "source": [
        "#@title **To'g'ri javob**\n",
        "df.groupby('SEX').CLAIM_AMOUNT.agg([min, max, np.mean])\n"
      ],
      "execution_count": null,
      "outputs": []
    }
  ]
}