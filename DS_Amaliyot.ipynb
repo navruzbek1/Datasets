{
  "nbformat": 4,
  "nbformat_minor": 0,
  "metadata": {
    "colab": {
      "name": "DS_Amaliyot.ipynb",
      "provenance": [],
      "collapsed_sections": []
    },
    "kernelspec": {
      "name": "python3",
      "display_name": "Python 3"
    },
    "language_info": {
      "name": "python"
    }
  },
  "cells": [
    {
      "cell_type": "code",
      "source": [
        ""
      ],
      "metadata": {
        "id": "OBfvGalrYppC"
      },
      "execution_count": null,
      "outputs": []
    },
    {
      "cell_type": "markdown",
      "source": [
        "Quyidagi jpynb oraqali bajarilgan vazifalarni ko'rishingiz mumkin:\n",
        "\n",
        "1.Vazifadagi asosiy metodlar **fillna,drop_duplicates,groupby,map,replace** \n",
        "2.  *Hammaga omad* \n",
        "![photo_2022-01-30_10-07-32.jpg](data:image/jpeg;base64,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)\n"
      ],
      "metadata": {
        "id": "mlvqr0brY6Xl"
      }
    },
    {
      "cell_type": "code",
      "metadata": {
        "id": "wX08M2KIMfHY"
      },
      "source": [
        "import pandas as pd\n",
        "import numpy as np"
      ],
      "execution_count": null,
      "outputs": []
    },
    {
      "cell_type": "code",
      "metadata": {
        "id": "E-eS1Sx-MiTH",
        "colab": {
          "base_uri": "https://localhost:8080/",
          "height": 381
        },
        "outputId": "6e363f88-ec62-4c2c-ad1b-81b6ee6342aa"
      },
      "source": [
        "df = pd.read_csv(\"https://raw.githubusercontent.com/mukhammad-irmatov/health_dataset/main/healt_info.csv\")\n",
        "df.head(3)"
      ],
      "execution_count": null,
      "outputs": [
        {
          "output_type": "execute_result",
          "data": {
            "text/html": [
              "\n",
              "  <div id=\"df-8979b2d9-98e6-4112-85ce-284bc9dcaa25\">\n",
              "    <div class=\"colab-df-container\">\n",
              "      <div>\n",
              "<style scoped>\n",
              "    .dataframe tbody tr th:only-of-type {\n",
              "        vertical-align: middle;\n",
              "    }\n",
              "\n",
              "    .dataframe tbody tr th {\n",
              "        vertical-align: top;\n",
              "    }\n",
              "\n",
              "    .dataframe thead th {\n",
              "        text-align: right;\n",
              "    }\n",
              "</style>\n",
              "<table border=\"1\" class=\"dataframe\">\n",
              "  <thead>\n",
              "    <tr style=\"text-align: right;\">\n",
              "      <th></th>\n",
              "      <th>Sno</th>\n",
              "      <th>AGE</th>\n",
              "      <th>SEX</th>\n",
              "      <th>CASTE_NAME</th>\n",
              "      <th>CATEGORY_CODE</th>\n",
              "      <th>CATEGORY_NAME</th>\n",
              "      <th>SURGERY_CODE</th>\n",
              "      <th>SURGERY</th>\n",
              "      <th>VILLAGE</th>\n",
              "      <th>MANDAL_NAME</th>\n",
              "      <th>DISTRICT_NAME</th>\n",
              "      <th>PREAUTH_DATE</th>\n",
              "      <th>PREAUTH_AMT</th>\n",
              "      <th>CLAIM_DATE</th>\n",
              "      <th>CLAIM_AMOUNT</th>\n",
              "      <th>HOSP_NAME</th>\n",
              "      <th>HOSP_TYPE</th>\n",
              "      <th>HOSP_DISTRICT</th>\n",
              "      <th>SURGERY_DATE</th>\n",
              "      <th>DISCHARGE_DATE</th>\n",
              "      <th>Mortality Y / N</th>\n",
              "      <th>MORTALITY_DATE</th>\n",
              "      <th>SRC_REGISTRATION</th>\n",
              "    </tr>\n",
              "  </thead>\n",
              "  <tbody>\n",
              "    <tr>\n",
              "      <th>0</th>\n",
              "      <td>1</td>\n",
              "      <td>56</td>\n",
              "      <td>Female</td>\n",
              "      <td>BC</td>\n",
              "      <td>M6</td>\n",
              "      <td>NEPHROLOGY</td>\n",
              "      <td>M6.5</td>\n",
              "      <td>Maintenance Hemodialysis For Crf</td>\n",
              "      <td>Lolugu</td>\n",
              "      <td>Ponduru</td>\n",
              "      <td>Srikakulam</td>\n",
              "      <td>03-08-2013 20:38</td>\n",
              "      <td>12500</td>\n",
              "      <td>22-03-2017 20:25</td>\n",
              "      <td>11000</td>\n",
              "      <td>Rims Govt. General Hospital, Srikakulam</td>\n",
              "      <td>G</td>\n",
              "      <td>Srikakulam</td>\n",
              "      <td>06-08-2013 00:00</td>\n",
              "      <td>07-09-2013 00:00</td>\n",
              "      <td>NO</td>\n",
              "      <td>NaN</td>\n",
              "      <td>D</td>\n",
              "    </tr>\n",
              "    <tr>\n",
              "      <th>1</th>\n",
              "      <td>2</td>\n",
              "      <td>37</td>\n",
              "      <td>Male</td>\n",
              "      <td>BC</td>\n",
              "      <td>M6</td>\n",
              "      <td>NEPHROLOGY</td>\n",
              "      <td>M6.5</td>\n",
              "      <td>Maintenance Hemodialysis For Crf</td>\n",
              "      <td>Borivanka</td>\n",
              "      <td>Kaviti</td>\n",
              "      <td>Srikakulam</td>\n",
              "      <td>06-08-2013 07:26</td>\n",
              "      <td>12500</td>\n",
              "      <td>22-03-2017 20:25</td>\n",
              "      <td>11000</td>\n",
              "      <td>Rims Govt. General Hospital, Srikakulam</td>\n",
              "      <td>G</td>\n",
              "      <td>Srikakulam</td>\n",
              "      <td>08-08-2013 00:00</td>\n",
              "      <td>09-09-2013 00:00</td>\n",
              "      <td>NO</td>\n",
              "      <td>NaN</td>\n",
              "      <td>D</td>\n",
              "    </tr>\n",
              "    <tr>\n",
              "      <th>2</th>\n",
              "      <td>3</td>\n",
              "      <td>50</td>\n",
              "      <td>Male</td>\n",
              "      <td>BC</td>\n",
              "      <td>M6</td>\n",
              "      <td>NEPHROLOGY</td>\n",
              "      <td>M6.5</td>\n",
              "      <td>Maintenance Hemodialysis For Crf</td>\n",
              "      <td>Kapasakuddi</td>\n",
              "      <td>Kaviti</td>\n",
              "      <td>Srikakulam</td>\n",
              "      <td>09-08-2013 18:30</td>\n",
              "      <td>12500</td>\n",
              "      <td>22-03-2017 20:25</td>\n",
              "      <td>11500</td>\n",
              "      <td>Rims Govt. General Hospital, Srikakulam</td>\n",
              "      <td>G</td>\n",
              "      <td>Srikakulam</td>\n",
              "      <td>15-08-2013 00:00</td>\n",
              "      <td>18-10-2013 00:00</td>\n",
              "      <td>NO</td>\n",
              "      <td>NaN</td>\n",
              "      <td>D</td>\n",
              "    </tr>\n",
              "  </tbody>\n",
              "</table>\n",
              "</div>\n",
              "      <button class=\"colab-df-convert\" onclick=\"convertToInteractive('df-8979b2d9-98e6-4112-85ce-284bc9dcaa25')\"\n",
              "              title=\"Convert this dataframe to an interactive table.\"\n",
              "              style=\"display:none;\">\n",
              "        \n",
              "  <svg xmlns=\"http://www.w3.org/2000/svg\" height=\"24px\"viewBox=\"0 0 24 24\"\n",
              "       width=\"24px\">\n",
              "    <path d=\"M0 0h24v24H0V0z\" fill=\"none\"/>\n",
              "    <path d=\"M18.56 5.44l.94 2.06.94-2.06 2.06-.94-2.06-.94-.94-2.06-.94 2.06-2.06.94zm-11 1L8.5 8.5l.94-2.06 2.06-.94-2.06-.94L8.5 2.5l-.94 2.06-2.06.94zm10 10l.94 2.06.94-2.06 2.06-.94-2.06-.94-.94-2.06-.94 2.06-2.06.94z\"/><path d=\"M17.41 7.96l-1.37-1.37c-.4-.4-.92-.59-1.43-.59-.52 0-1.04.2-1.43.59L10.3 9.45l-7.72 7.72c-.78.78-.78 2.05 0 2.83L4 21.41c.39.39.9.59 1.41.59.51 0 1.02-.2 1.41-.59l7.78-7.78 2.81-2.81c.8-.78.8-2.07 0-2.86zM5.41 20L4 18.59l7.72-7.72 1.47 1.35L5.41 20z\"/>\n",
              "  </svg>\n",
              "      </button>\n",
              "      \n",
              "  <style>\n",
              "    .colab-df-container {\n",
              "      display:flex;\n",
              "      flex-wrap:wrap;\n",
              "      gap: 12px;\n",
              "    }\n",
              "\n",
              "    .colab-df-convert {\n",
              "      background-color: #E8F0FE;\n",
              "      border: none;\n",
              "      border-radius: 50%;\n",
              "      cursor: pointer;\n",
              "      display: none;\n",
              "      fill: #1967D2;\n",
              "      height: 32px;\n",
              "      padding: 0 0 0 0;\n",
              "      width: 32px;\n",
              "    }\n",
              "\n",
              "    .colab-df-convert:hover {\n",
              "      background-color: #E2EBFA;\n",
              "      box-shadow: 0px 1px 2px rgba(60, 64, 67, 0.3), 0px 1px 3px 1px rgba(60, 64, 67, 0.15);\n",
              "      fill: #174EA6;\n",
              "    }\n",
              "\n",
              "    [theme=dark] .colab-df-convert {\n",
              "      background-color: #3B4455;\n",
              "      fill: #D2E3FC;\n",
              "    }\n",
              "\n",
              "    [theme=dark] .colab-df-convert:hover {\n",
              "      background-color: #434B5C;\n",
              "      box-shadow: 0px 1px 3px 1px rgba(0, 0, 0, 0.15);\n",
              "      filter: drop-shadow(0px 1px 2px rgba(0, 0, 0, 0.3));\n",
              "      fill: #FFFFFF;\n",
              "    }\n",
              "  </style>\n",
              "\n",
              "      <script>\n",
              "        const buttonEl =\n",
              "          document.querySelector('#df-8979b2d9-98e6-4112-85ce-284bc9dcaa25 button.colab-df-convert');\n",
              "        buttonEl.style.display =\n",
              "          google.colab.kernel.accessAllowed ? 'block' : 'none';\n",
              "\n",
              "        async function convertToInteractive(key) {\n",
              "          const element = document.querySelector('#df-8979b2d9-98e6-4112-85ce-284bc9dcaa25');\n",
              "          const dataTable =\n",
              "            await google.colab.kernel.invokeFunction('convertToInteractive',\n",
              "                                                     [key], {});\n",
              "          if (!dataTable) return;\n",
              "\n",
              "          const docLinkHtml = 'Like what you see? Visit the ' +\n",
              "            '<a target=\"_blank\" href=https://colab.research.google.com/notebooks/data_table.ipynb>data table notebook</a>'\n",
              "            + ' to learn more about interactive tables.';\n",
              "          element.innerHTML = '';\n",
              "          dataTable['output_type'] = 'display_data';\n",
              "          await google.colab.output.renderOutput(dataTable, element);\n",
              "          const docLink = document.createElement('div');\n",
              "          docLink.innerHTML = docLinkHtml;\n",
              "          element.appendChild(docLink);\n",
              "        }\n",
              "      </script>\n",
              "    </div>\n",
              "  </div>\n",
              "  "
            ],
            "text/plain": [
              "   Sno  AGE     SEX  ... Mortality Y / N MORTALITY_DATE SRC_REGISTRATION\n",
              "0    1   56  Female  ...              NO            NaN                D\n",
              "1    2   37    Male  ...              NO            NaN                D\n",
              "2    3   50    Male  ...              NO            NaN                D\n",
              "\n",
              "[3 rows x 23 columns]"
            ]
          },
          "metadata": {},
          "execution_count": 2
        }
      ]
    },
    {
      "cell_type": "markdown",
      "metadata": {
        "id": "tsm8uZ0JMr5m"
      },
      "source": [
        "Bu dataset sug'urta kompaniyasining real ma'lumotlardan tuzilgan. Bu datasetda 480000 qator sug'urta ma'lumotlar tashkil topgan.\n",
        "Quyida datasetning ba'zi ustunlari haqida qisqacha ma'lumot\n",
        "\n",
        "*   Sno = seriya raqami \n",
        "*   AGE = yoshi\n",
        "*   SEX = jinsi (female = ayol, male = erkak)\n",
        "*   CASTE_NAME = kasta nomi (Hindistonda har bir inson ma'lum bir kastaga oid bo'ladi)\n",
        "*   CATEGORY_CODE = kategoriya kodi\n",
        "*   CATEGORY_Name = kategoriya nomi\n",
        "*   SURGERY_CODE = operatsiya kodi\n",
        "*   Mandal_Name = mandal nomlanishi ya'ni familiyasi desak ham bo'ladi\n",
        "*   Mortality Y/N = vafot etgan yoki vafot etmaganligi\n",
        "*   MORTALITY_DATE = qachon vafot etganligi\n",
        "\n",
        "\n",
        "\n"
      ]
    },
    {
      "cell_type": "markdown",
      "metadata": {
        "id": "FNLOb9yhxI0b"
      },
      "source": [
        "### **1-mashq**. Datasetdagi barcha takrorlangan qatorlar sonini toping"
      ]
    },
    {
      "cell_type": "code",
      "metadata": {
        "id": "o64K3q-UBNAm",
        "colab": {
          "base_uri": "https://localhost:8080/"
        },
        "outputId": "652aad85-b6f2-492e-a021-28813c548c68"
      },
      "source": [
        "# Javobni shuyerga yozing\n",
        "\n",
        "df.duplicated().sum()\n"
      ],
      "execution_count": null,
      "outputs": [
        {
          "output_type": "execute_result",
          "data": {
            "text/plain": [
              "0"
            ]
          },
          "metadata": {},
          "execution_count": 3
        }
      ]
    },
    {
      "cell_type": "code",
      "metadata": {
        "id": "2aiD_0BiOrsy",
        "colab": {
          "base_uri": "https://localhost:8080/"
        },
        "outputId": "a2e13f28-93a1-43a4-db32-11aae77bc2ae"
      },
      "source": [
        "#@title **To'g'ri javob**\n",
        "sum(df.duplicated())"
      ],
      "execution_count": null,
      "outputs": [
        {
          "output_type": "execute_result",
          "data": {
            "text/plain": [
              "0"
            ]
          },
          "metadata": {},
          "execution_count": 4
        }
      ]
    },
    {
      "cell_type": "markdown",
      "metadata": {
        "id": "9GJiUd445Kr1"
      },
      "source": [
        "#### **2-mashq**. Datasetdagi quyidagi ustunlar o'chirib yuborilsin:<br>\n",
        "*   Sno\n",
        "*   CATEGORY_CODE\n",
        "*   SURGERY_CODE\n",
        "*   MANDAL_NAME\n",
        "*   DISTRICT_NAME\n",
        "*   HOSP_DISTRICT\n",
        "<BR>\n"
      ]
    },
    {
      "cell_type": "code",
      "metadata": {
        "id": "W8LCqh3466n-"
      },
      "source": [
        "# Javobni shuyerga yozin\n",
        "df.drop([\"SURGERY_CODE\",\"MANDAL_NAME\",\"DISTRICT_NAME\",\"HOSP_DISTRICT\"],axis=1,inplace=True)"
      ],
      "execution_count": null,
      "outputs": []
    },
    {
      "cell_type": "code",
      "metadata": {
        "id": "tQmeaOg19flk"
      },
      "source": [
        "#@title **To'g'ri javob**\n",
        "df.drop(['Sno','CATEGORY_CODE','SURGERY_CODE','MANDAL_NAME','DISTRICT_NAME','HOSP_DISTRICT'],axis='columns',inplace=True)\n",
        "df"
      ],
      "execution_count": null,
      "outputs": []
    },
    {
      "cell_type": "markdown",
      "metadata": {
        "id": "wVuuU-XZO-0Y"
      },
      "source": [
        "#### **3-mashq**. Datasetdagi sex(jinsi) nomli qatordagi qiymatlarni unique funksiyasi orqali tekshiring.\n",
        "\n",
        "\n"
      ]
    },
    {
      "cell_type": "code",
      "metadata": {
        "id": "i9e_7Icu0Xms",
        "colab": {
          "base_uri": "https://localhost:8080/"
        },
        "outputId": "85501f02-1eb1-41b6-a515-be99ac52898b"
      },
      "source": [
        "# Javobni shuyerga yozing\n",
        "df[\"SEX\"].unique()"
      ],
      "execution_count": null,
      "outputs": [
        {
          "output_type": "execute_result",
          "data": {
            "text/plain": [
              "array(['Female', 'Male', 'Male(Child)', 'Female(Child)', 'FEMALE'],\n",
              "      dtype=object)"
            ]
          },
          "metadata": {},
          "execution_count": 16
        }
      ]
    },
    {
      "cell_type": "code",
      "metadata": {
        "cellView": "form",
        "id": "Wa7bvsLs05wT"
      },
      "source": [
        "#@title **To'g'ri javob**\n",
        "df[\"SEX\"].unique()\n"
      ],
      "execution_count": null,
      "outputs": []
    },
    {
      "cell_type": "markdown",
      "metadata": {
        "id": "nfwZ0uQo1xXm"
      },
      "source": [
        "#### **4-mashq**. Datasetdagi sex(jinsi) nomli qatordagi qiymatlarni **Erkak** va **Ayol** ga o'zgartiring:\n",
        "O'zgartirish quyidagicha bo'lsin:\n",
        "\n",
        "\n",
        "*   Male -> Erkak\n",
        "*   Male(child) -> Erkak\n",
        "*   Female - > Ayol\n",
        "*   Female(child) - Ayol\n",
        "*   MALE -> Erkak\n",
        "*   FEMALE -> Ayol\n",
        "\n",
        "\n",
        "\n"
      ]
    },
    {
      "cell_type": "code",
      "metadata": {
        "id": "54IqaOmz159z"
      },
      "source": [
        "# Javobni shuyerga yozing\n",
        "\n",
        "dict={\"Male\":\"Erkak\",\"Male(Child\":\"Erkak\",\"Female\":\"Ayol\",\"Female(Child)\":\"Ayol\",\"MALE\":\"Erkak\",\"FEMALE\":\"Ayol\"}"
      ],
      "execution_count": null,
      "outputs": []
    },
    {
      "cell_type": "code",
      "source": [
        "df[\"SEX\"]=df[\"SEX\"].map(dict)"
      ],
      "metadata": {
        "id": "pRkI_RIWOarH"
      },
      "execution_count": null,
      "outputs": []
    },
    {
      "cell_type": "code",
      "metadata": {
        "cellView": "form",
        "id": "ZM7XuQc31_Z1"
      },
      "source": [
        "#@title **To'g'ri javob**\n",
        "dict = {\"Male\":\"Erkak\",\"Male(child)\":\"Erkak\", \"Female\":\"Ayol\",\"Female(child)\":\"Ayol\",\"MALE\":\"Erkak\",\"FEMALE\":\"Ayol\"}\n",
        "df[\"SEX\"] = df[\"SEX\"].map(dict)"
      ],
      "execution_count": null,
      "outputs": []
    },
    {
      "cell_type": "markdown",
      "metadata": {
        "id": "t_KWHWqj3D38"
      },
      "source": [
        "#### **5-mashq**. Endi xuddi shu SEX columndagi ma'lumotlarni raqamlarga o'zgartiring: Erkaklarni 1 raqamiga, Ayollarni 0 raqamiga o'zgartiring.\n",
        "*   Erkak -> 1\n",
        "*   Ayol -> 0"
      ]
    },
    {
      "cell_type": "code",
      "metadata": {
        "id": "CU3ygcnh3LAd",
        "colab": {
          "base_uri": "https://localhost:8080/",
          "height": 547
        },
        "outputId": "bae3cf6b-63b1-4410-e677-e4549a2e9169"
      },
      "source": [
        "# Javobni shuyerga yozing\n",
        "df[\"SEX\"]=df[\"SEX\"].replace([\"Erkak\",\"Ayol\"],[1,0])\n",
        "df.head()"
      ],
      "execution_count": null,
      "outputs": [
        {
          "output_type": "execute_result",
          "data": {
            "text/html": [
              "\n",
              "  <div id=\"df-1308ebe9-1cfa-44ec-9182-8c57dc2f8b74\">\n",
              "    <div class=\"colab-df-container\">\n",
              "      <div>\n",
              "<style scoped>\n",
              "    .dataframe tbody tr th:only-of-type {\n",
              "        vertical-align: middle;\n",
              "    }\n",
              "\n",
              "    .dataframe tbody tr th {\n",
              "        vertical-align: top;\n",
              "    }\n",
              "\n",
              "    .dataframe thead th {\n",
              "        text-align: right;\n",
              "    }\n",
              "</style>\n",
              "<table border=\"1\" class=\"dataframe\">\n",
              "  <thead>\n",
              "    <tr style=\"text-align: right;\">\n",
              "      <th></th>\n",
              "      <th>AGE</th>\n",
              "      <th>SEX</th>\n",
              "      <th>CASTE_NAME</th>\n",
              "      <th>CATEGORY_NAME</th>\n",
              "      <th>SURGERY</th>\n",
              "      <th>VILLAGE</th>\n",
              "      <th>PREAUTH_DATE</th>\n",
              "      <th>PREAUTH_AMT</th>\n",
              "      <th>CLAIM_DATE</th>\n",
              "      <th>CLAIM_AMOUNT</th>\n",
              "      <th>HOSP_NAME</th>\n",
              "      <th>HOSP_TYPE</th>\n",
              "      <th>SURGERY_DATE</th>\n",
              "      <th>DISCHARGE_DATE</th>\n",
              "      <th>Mortality Y / N</th>\n",
              "      <th>MORTALITY_DATE</th>\n",
              "      <th>SRC_REGISTRATION</th>\n",
              "    </tr>\n",
              "  </thead>\n",
              "  <tbody>\n",
              "    <tr>\n",
              "      <th>0</th>\n",
              "      <td>56</td>\n",
              "      <td>0.0</td>\n",
              "      <td>BC</td>\n",
              "      <td>NEPHROLOGY</td>\n",
              "      <td>Maintenance Hemodialysis For Crf</td>\n",
              "      <td>Lolugu</td>\n",
              "      <td>03-08-2013 20:38</td>\n",
              "      <td>12500</td>\n",
              "      <td>22-03-2017 20:25</td>\n",
              "      <td>11000</td>\n",
              "      <td>Rims Govt. General Hospital, Srikakulam</td>\n",
              "      <td>G</td>\n",
              "      <td>06-08-2013 00:00</td>\n",
              "      <td>07-09-2013 00:00</td>\n",
              "      <td>NO</td>\n",
              "      <td>NaN</td>\n",
              "      <td>D</td>\n",
              "    </tr>\n",
              "    <tr>\n",
              "      <th>1</th>\n",
              "      <td>37</td>\n",
              "      <td>1.0</td>\n",
              "      <td>BC</td>\n",
              "      <td>NEPHROLOGY</td>\n",
              "      <td>Maintenance Hemodialysis For Crf</td>\n",
              "      <td>Borivanka</td>\n",
              "      <td>06-08-2013 07:26</td>\n",
              "      <td>12500</td>\n",
              "      <td>22-03-2017 20:25</td>\n",
              "      <td>11000</td>\n",
              "      <td>Rims Govt. General Hospital, Srikakulam</td>\n",
              "      <td>G</td>\n",
              "      <td>08-08-2013 00:00</td>\n",
              "      <td>09-09-2013 00:00</td>\n",
              "      <td>NO</td>\n",
              "      <td>NaN</td>\n",
              "      <td>D</td>\n",
              "    </tr>\n",
              "    <tr>\n",
              "      <th>2</th>\n",
              "      <td>50</td>\n",
              "      <td>1.0</td>\n",
              "      <td>BC</td>\n",
              "      <td>NEPHROLOGY</td>\n",
              "      <td>Maintenance Hemodialysis For Crf</td>\n",
              "      <td>Kapasakuddi</td>\n",
              "      <td>09-08-2013 18:30</td>\n",
              "      <td>12500</td>\n",
              "      <td>22-03-2017 20:25</td>\n",
              "      <td>11500</td>\n",
              "      <td>Rims Govt. General Hospital, Srikakulam</td>\n",
              "      <td>G</td>\n",
              "      <td>15-08-2013 00:00</td>\n",
              "      <td>18-10-2013 00:00</td>\n",
              "      <td>NO</td>\n",
              "      <td>NaN</td>\n",
              "      <td>D</td>\n",
              "    </tr>\n",
              "    <tr>\n",
              "      <th>3</th>\n",
              "      <td>45</td>\n",
              "      <td>1.0</td>\n",
              "      <td>BC</td>\n",
              "      <td>NEPHROLOGY</td>\n",
              "      <td>Maintenance Hemodialysis For Crf</td>\n",
              "      <td>Telikipenta</td>\n",
              "      <td>24-08-2013 19:37</td>\n",
              "      <td>12500</td>\n",
              "      <td>22-03-2017 20:25</td>\n",
              "      <td>11000</td>\n",
              "      <td>Rims Govt. General Hospital, Srikakulam</td>\n",
              "      <td>G</td>\n",
              "      <td>24-08-2013 00:00</td>\n",
              "      <td>27-09-2013 00:00</td>\n",
              "      <td>NO</td>\n",
              "      <td>NaN</td>\n",
              "      <td>D</td>\n",
              "    </tr>\n",
              "    <tr>\n",
              "      <th>4</th>\n",
              "      <td>54</td>\n",
              "      <td>1.0</td>\n",
              "      <td>BC</td>\n",
              "      <td>NEPHROLOGY</td>\n",
              "      <td>Maintenance Hemodialysis For Crf</td>\n",
              "      <td>Thandemvalasa</td>\n",
              "      <td>28-08-2013 17:03</td>\n",
              "      <td>12500</td>\n",
              "      <td>22-03-2017 20:25</td>\n",
              "      <td>11000</td>\n",
              "      <td>Rims Govt. General Hospital, Srikakulam</td>\n",
              "      <td>G</td>\n",
              "      <td>31-08-2013 00:00</td>\n",
              "      <td>02-10-2013 00:00</td>\n",
              "      <td>NO</td>\n",
              "      <td>NaN</td>\n",
              "      <td>D</td>\n",
              "    </tr>\n",
              "  </tbody>\n",
              "</table>\n",
              "</div>\n",
              "      <button class=\"colab-df-convert\" onclick=\"convertToInteractive('df-1308ebe9-1cfa-44ec-9182-8c57dc2f8b74')\"\n",
              "              title=\"Convert this dataframe to an interactive table.\"\n",
              "              style=\"display:none;\">\n",
              "        \n",
              "  <svg xmlns=\"http://www.w3.org/2000/svg\" height=\"24px\"viewBox=\"0 0 24 24\"\n",
              "       width=\"24px\">\n",
              "    <path d=\"M0 0h24v24H0V0z\" fill=\"none\"/>\n",
              "    <path d=\"M18.56 5.44l.94 2.06.94-2.06 2.06-.94-2.06-.94-.94-2.06-.94 2.06-2.06.94zm-11 1L8.5 8.5l.94-2.06 2.06-.94-2.06-.94L8.5 2.5l-.94 2.06-2.06.94zm10 10l.94 2.06.94-2.06 2.06-.94-2.06-.94-.94-2.06-.94 2.06-2.06.94z\"/><path d=\"M17.41 7.96l-1.37-1.37c-.4-.4-.92-.59-1.43-.59-.52 0-1.04.2-1.43.59L10.3 9.45l-7.72 7.72c-.78.78-.78 2.05 0 2.83L4 21.41c.39.39.9.59 1.41.59.51 0 1.02-.2 1.41-.59l7.78-7.78 2.81-2.81c.8-.78.8-2.07 0-2.86zM5.41 20L4 18.59l7.72-7.72 1.47 1.35L5.41 20z\"/>\n",
              "  </svg>\n",
              "      </button>\n",
              "      \n",
              "  <style>\n",
              "    .colab-df-container {\n",
              "      display:flex;\n",
              "      flex-wrap:wrap;\n",
              "      gap: 12px;\n",
              "    }\n",
              "\n",
              "    .colab-df-convert {\n",
              "      background-color: #E8F0FE;\n",
              "      border: none;\n",
              "      border-radius: 50%;\n",
              "      cursor: pointer;\n",
              "      display: none;\n",
              "      fill: #1967D2;\n",
              "      height: 32px;\n",
              "      padding: 0 0 0 0;\n",
              "      width: 32px;\n",
              "    }\n",
              "\n",
              "    .colab-df-convert:hover {\n",
              "      background-color: #E2EBFA;\n",
              "      box-shadow: 0px 1px 2px rgba(60, 64, 67, 0.3), 0px 1px 3px 1px rgba(60, 64, 67, 0.15);\n",
              "      fill: #174EA6;\n",
              "    }\n",
              "\n",
              "    [theme=dark] .colab-df-convert {\n",
              "      background-color: #3B4455;\n",
              "      fill: #D2E3FC;\n",
              "    }\n",
              "\n",
              "    [theme=dark] .colab-df-convert:hover {\n",
              "      background-color: #434B5C;\n",
              "      box-shadow: 0px 1px 3px 1px rgba(0, 0, 0, 0.15);\n",
              "      filter: drop-shadow(0px 1px 2px rgba(0, 0, 0, 0.3));\n",
              "      fill: #FFFFFF;\n",
              "    }\n",
              "  </style>\n",
              "\n",
              "      <script>\n",
              "        const buttonEl =\n",
              "          document.querySelector('#df-1308ebe9-1cfa-44ec-9182-8c57dc2f8b74 button.colab-df-convert');\n",
              "        buttonEl.style.display =\n",
              "          google.colab.kernel.accessAllowed ? 'block' : 'none';\n",
              "\n",
              "        async function convertToInteractive(key) {\n",
              "          const element = document.querySelector('#df-1308ebe9-1cfa-44ec-9182-8c57dc2f8b74');\n",
              "          const dataTable =\n",
              "            await google.colab.kernel.invokeFunction('convertToInteractive',\n",
              "                                                     [key], {});\n",
              "          if (!dataTable) return;\n",
              "\n",
              "          const docLinkHtml = 'Like what you see? Visit the ' +\n",
              "            '<a target=\"_blank\" href=https://colab.research.google.com/notebooks/data_table.ipynb>data table notebook</a>'\n",
              "            + ' to learn more about interactive tables.';\n",
              "          element.innerHTML = '';\n",
              "          dataTable['output_type'] = 'display_data';\n",
              "          await google.colab.output.renderOutput(dataTable, element);\n",
              "          const docLink = document.createElement('div');\n",
              "          docLink.innerHTML = docLinkHtml;\n",
              "          element.appendChild(docLink);\n",
              "        }\n",
              "      </script>\n",
              "    </div>\n",
              "  </div>\n",
              "  "
            ],
            "text/plain": [
              "   AGE  SEX CASTE_NAME  ... Mortality Y / N MORTALITY_DATE SRC_REGISTRATION\n",
              "0   56  0.0         BC  ...              NO            NaN                D\n",
              "1   37  1.0         BC  ...              NO            NaN                D\n",
              "2   50  1.0         BC  ...              NO            NaN                D\n",
              "3   45  1.0         BC  ...              NO            NaN                D\n",
              "4   54  1.0         BC  ...              NO            NaN                D\n",
              "\n",
              "[5 rows x 17 columns]"
            ]
          },
          "metadata": {},
          "execution_count": 22
        }
      ]
    },
    {
      "cell_type": "code",
      "metadata": {
        "id": "Ou0DKvEm3ZxW"
      },
      "source": [
        "#@title **To'g'ri javob**\n",
        "dict2 = {'Erkak':1, 'Ayol':0}\n",
        "df[\"SEX\"] = df[\"SEX\"].map(dict2)\n",
        "df.head(5)"
      ],
      "execution_count": null,
      "outputs": []
    },
    {
      "cell_type": "markdown",
      "metadata": {
        "id": "i4n7ulS75WA4"
      },
      "source": [
        "#### **6-mashq**. Shu jarayonni HOSP_TYPE ustuni uchun ham amalga oshiring. \n",
        "*   G - General hospital (umumiy kasalxona) degani\n",
        "*   C - Special hospital (maxsus kasalxona) degani\n",
        "<br><b>O'zgarish quyidagicha bo'lsin:</b>\n",
        "*   G -> Umumiy \n",
        "*   C -> Maxsus\n"
      ]
    },
    {
      "cell_type": "code",
      "metadata": {
        "id": "BEokSEre43GK",
        "colab": {
          "base_uri": "https://localhost:8080/",
          "height": 547
        },
        "outputId": "c101ee7f-4e1f-4142-b312-a36a57079fb0"
      },
      "source": [
        "# Javobni shuyerga yozing\n",
        "\n",
        "df[\"HOSP_TYPE\"]=df[\"HOSP_TYPE\"].replace([\"G\",\"C\"],[\"Umumiy\",\"Maxsus\"])\n",
        "df.head()\n"
      ],
      "execution_count": null,
      "outputs": [
        {
          "output_type": "execute_result",
          "data": {
            "text/html": [
              "\n",
              "  <div id=\"df-c2e619d6-1ae1-450e-af9a-9330a43c0f0d\">\n",
              "    <div class=\"colab-df-container\">\n",
              "      <div>\n",
              "<style scoped>\n",
              "    .dataframe tbody tr th:only-of-type {\n",
              "        vertical-align: middle;\n",
              "    }\n",
              "\n",
              "    .dataframe tbody tr th {\n",
              "        vertical-align: top;\n",
              "    }\n",
              "\n",
              "    .dataframe thead th {\n",
              "        text-align: right;\n",
              "    }\n",
              "</style>\n",
              "<table border=\"1\" class=\"dataframe\">\n",
              "  <thead>\n",
              "    <tr style=\"text-align: right;\">\n",
              "      <th></th>\n",
              "      <th>AGE</th>\n",
              "      <th>SEX</th>\n",
              "      <th>CASTE_NAME</th>\n",
              "      <th>CATEGORY_NAME</th>\n",
              "      <th>SURGERY</th>\n",
              "      <th>VILLAGE</th>\n",
              "      <th>PREAUTH_DATE</th>\n",
              "      <th>PREAUTH_AMT</th>\n",
              "      <th>CLAIM_DATE</th>\n",
              "      <th>CLAIM_AMOUNT</th>\n",
              "      <th>HOSP_NAME</th>\n",
              "      <th>HOSP_TYPE</th>\n",
              "      <th>SURGERY_DATE</th>\n",
              "      <th>DISCHARGE_DATE</th>\n",
              "      <th>Mortality Y / N</th>\n",
              "      <th>MORTALITY_DATE</th>\n",
              "      <th>SRC_REGISTRATION</th>\n",
              "    </tr>\n",
              "  </thead>\n",
              "  <tbody>\n",
              "    <tr>\n",
              "      <th>0</th>\n",
              "      <td>56</td>\n",
              "      <td>0.0</td>\n",
              "      <td>BC</td>\n",
              "      <td>NEPHROLOGY</td>\n",
              "      <td>Maintenance Hemodialysis For Crf</td>\n",
              "      <td>Lolugu</td>\n",
              "      <td>03-08-2013 20:38</td>\n",
              "      <td>12500</td>\n",
              "      <td>22-03-2017 20:25</td>\n",
              "      <td>11000</td>\n",
              "      <td>Rims Govt. General Hospital, Srikakulam</td>\n",
              "      <td>Umumiy</td>\n",
              "      <td>06-08-2013 00:00</td>\n",
              "      <td>07-09-2013 00:00</td>\n",
              "      <td>NO</td>\n",
              "      <td>NaN</td>\n",
              "      <td>D</td>\n",
              "    </tr>\n",
              "    <tr>\n",
              "      <th>1</th>\n",
              "      <td>37</td>\n",
              "      <td>1.0</td>\n",
              "      <td>BC</td>\n",
              "      <td>NEPHROLOGY</td>\n",
              "      <td>Maintenance Hemodialysis For Crf</td>\n",
              "      <td>Borivanka</td>\n",
              "      <td>06-08-2013 07:26</td>\n",
              "      <td>12500</td>\n",
              "      <td>22-03-2017 20:25</td>\n",
              "      <td>11000</td>\n",
              "      <td>Rims Govt. General Hospital, Srikakulam</td>\n",
              "      <td>Umumiy</td>\n",
              "      <td>08-08-2013 00:00</td>\n",
              "      <td>09-09-2013 00:00</td>\n",
              "      <td>NO</td>\n",
              "      <td>NaN</td>\n",
              "      <td>D</td>\n",
              "    </tr>\n",
              "    <tr>\n",
              "      <th>2</th>\n",
              "      <td>50</td>\n",
              "      <td>1.0</td>\n",
              "      <td>BC</td>\n",
              "      <td>NEPHROLOGY</td>\n",
              "      <td>Maintenance Hemodialysis For Crf</td>\n",
              "      <td>Kapasakuddi</td>\n",
              "      <td>09-08-2013 18:30</td>\n",
              "      <td>12500</td>\n",
              "      <td>22-03-2017 20:25</td>\n",
              "      <td>11500</td>\n",
              "      <td>Rims Govt. General Hospital, Srikakulam</td>\n",
              "      <td>Umumiy</td>\n",
              "      <td>15-08-2013 00:00</td>\n",
              "      <td>18-10-2013 00:00</td>\n",
              "      <td>NO</td>\n",
              "      <td>NaN</td>\n",
              "      <td>D</td>\n",
              "    </tr>\n",
              "    <tr>\n",
              "      <th>3</th>\n",
              "      <td>45</td>\n",
              "      <td>1.0</td>\n",
              "      <td>BC</td>\n",
              "      <td>NEPHROLOGY</td>\n",
              "      <td>Maintenance Hemodialysis For Crf</td>\n",
              "      <td>Telikipenta</td>\n",
              "      <td>24-08-2013 19:37</td>\n",
              "      <td>12500</td>\n",
              "      <td>22-03-2017 20:25</td>\n",
              "      <td>11000</td>\n",
              "      <td>Rims Govt. General Hospital, Srikakulam</td>\n",
              "      <td>Umumiy</td>\n",
              "      <td>24-08-2013 00:00</td>\n",
              "      <td>27-09-2013 00:00</td>\n",
              "      <td>NO</td>\n",
              "      <td>NaN</td>\n",
              "      <td>D</td>\n",
              "    </tr>\n",
              "    <tr>\n",
              "      <th>4</th>\n",
              "      <td>54</td>\n",
              "      <td>1.0</td>\n",
              "      <td>BC</td>\n",
              "      <td>NEPHROLOGY</td>\n",
              "      <td>Maintenance Hemodialysis For Crf</td>\n",
              "      <td>Thandemvalasa</td>\n",
              "      <td>28-08-2013 17:03</td>\n",
              "      <td>12500</td>\n",
              "      <td>22-03-2017 20:25</td>\n",
              "      <td>11000</td>\n",
              "      <td>Rims Govt. General Hospital, Srikakulam</td>\n",
              "      <td>Umumiy</td>\n",
              "      <td>31-08-2013 00:00</td>\n",
              "      <td>02-10-2013 00:00</td>\n",
              "      <td>NO</td>\n",
              "      <td>NaN</td>\n",
              "      <td>D</td>\n",
              "    </tr>\n",
              "  </tbody>\n",
              "</table>\n",
              "</div>\n",
              "      <button class=\"colab-df-convert\" onclick=\"convertToInteractive('df-c2e619d6-1ae1-450e-af9a-9330a43c0f0d')\"\n",
              "              title=\"Convert this dataframe to an interactive table.\"\n",
              "              style=\"display:none;\">\n",
              "        \n",
              "  <svg xmlns=\"http://www.w3.org/2000/svg\" height=\"24px\"viewBox=\"0 0 24 24\"\n",
              "       width=\"24px\">\n",
              "    <path d=\"M0 0h24v24H0V0z\" fill=\"none\"/>\n",
              "    <path d=\"M18.56 5.44l.94 2.06.94-2.06 2.06-.94-2.06-.94-.94-2.06-.94 2.06-2.06.94zm-11 1L8.5 8.5l.94-2.06 2.06-.94-2.06-.94L8.5 2.5l-.94 2.06-2.06.94zm10 10l.94 2.06.94-2.06 2.06-.94-2.06-.94-.94-2.06-.94 2.06-2.06.94z\"/><path d=\"M17.41 7.96l-1.37-1.37c-.4-.4-.92-.59-1.43-.59-.52 0-1.04.2-1.43.59L10.3 9.45l-7.72 7.72c-.78.78-.78 2.05 0 2.83L4 21.41c.39.39.9.59 1.41.59.51 0 1.02-.2 1.41-.59l7.78-7.78 2.81-2.81c.8-.78.8-2.07 0-2.86zM5.41 20L4 18.59l7.72-7.72 1.47 1.35L5.41 20z\"/>\n",
              "  </svg>\n",
              "      </button>\n",
              "      \n",
              "  <style>\n",
              "    .colab-df-container {\n",
              "      display:flex;\n",
              "      flex-wrap:wrap;\n",
              "      gap: 12px;\n",
              "    }\n",
              "\n",
              "    .colab-df-convert {\n",
              "      background-color: #E8F0FE;\n",
              "      border: none;\n",
              "      border-radius: 50%;\n",
              "      cursor: pointer;\n",
              "      display: none;\n",
              "      fill: #1967D2;\n",
              "      height: 32px;\n",
              "      padding: 0 0 0 0;\n",
              "      width: 32px;\n",
              "    }\n",
              "\n",
              "    .colab-df-convert:hover {\n",
              "      background-color: #E2EBFA;\n",
              "      box-shadow: 0px 1px 2px rgba(60, 64, 67, 0.3), 0px 1px 3px 1px rgba(60, 64, 67, 0.15);\n",
              "      fill: #174EA6;\n",
              "    }\n",
              "\n",
              "    [theme=dark] .colab-df-convert {\n",
              "      background-color: #3B4455;\n",
              "      fill: #D2E3FC;\n",
              "    }\n",
              "\n",
              "    [theme=dark] .colab-df-convert:hover {\n",
              "      background-color: #434B5C;\n",
              "      box-shadow: 0px 1px 3px 1px rgba(0, 0, 0, 0.15);\n",
              "      filter: drop-shadow(0px 1px 2px rgba(0, 0, 0, 0.3));\n",
              "      fill: #FFFFFF;\n",
              "    }\n",
              "  </style>\n",
              "\n",
              "      <script>\n",
              "        const buttonEl =\n",
              "          document.querySelector('#df-c2e619d6-1ae1-450e-af9a-9330a43c0f0d button.colab-df-convert');\n",
              "        buttonEl.style.display =\n",
              "          google.colab.kernel.accessAllowed ? 'block' : 'none';\n",
              "\n",
              "        async function convertToInteractive(key) {\n",
              "          const element = document.querySelector('#df-c2e619d6-1ae1-450e-af9a-9330a43c0f0d');\n",
              "          const dataTable =\n",
              "            await google.colab.kernel.invokeFunction('convertToInteractive',\n",
              "                                                     [key], {});\n",
              "          if (!dataTable) return;\n",
              "\n",
              "          const docLinkHtml = 'Like what you see? Visit the ' +\n",
              "            '<a target=\"_blank\" href=https://colab.research.google.com/notebooks/data_table.ipynb>data table notebook</a>'\n",
              "            + ' to learn more about interactive tables.';\n",
              "          element.innerHTML = '';\n",
              "          dataTable['output_type'] = 'display_data';\n",
              "          await google.colab.output.renderOutput(dataTable, element);\n",
              "          const docLink = document.createElement('div');\n",
              "          docLink.innerHTML = docLinkHtml;\n",
              "          element.appendChild(docLink);\n",
              "        }\n",
              "      </script>\n",
              "    </div>\n",
              "  </div>\n",
              "  "
            ],
            "text/plain": [
              "   AGE  SEX CASTE_NAME  ... Mortality Y / N MORTALITY_DATE SRC_REGISTRATION\n",
              "0   56  0.0         BC  ...              NO            NaN                D\n",
              "1   37  1.0         BC  ...              NO            NaN                D\n",
              "2   50  1.0         BC  ...              NO            NaN                D\n",
              "3   45  1.0         BC  ...              NO            NaN                D\n",
              "4   54  1.0         BC  ...              NO            NaN                D\n",
              "\n",
              "[5 rows x 17 columns]"
            ]
          },
          "metadata": {},
          "execution_count": 25
        }
      ]
    },
    {
      "cell_type": "code",
      "metadata": {
        "cellView": "form",
        "id": "ALhBzKu35lBb"
      },
      "source": [
        "#@title **To'g'ri javob**\n",
        "df[\"HOSP_TYPE\"] = df[\"HOSP_TYPE\"].map({'G':\"Umumiy\", 'C':\"Maxsus\"})\n"
      ],
      "execution_count": null,
      "outputs": []
    },
    {
      "cell_type": "markdown",
      "metadata": {
        "id": "4YozaezB4qqa"
      },
      "source": [
        "#### **7-mashq**. O'zgartirish amalga oshirilgach, HOSP_TYPE ustunida qancha Umumiy va qancha Maxsus kasalxonalar borligini ham aniqlang\n"
      ]
    },
    {
      "cell_type": "code",
      "metadata": {
        "id": "XNa8b4s25IUN",
        "colab": {
          "base_uri": "https://localhost:8080/"
        },
        "outputId": "bddc26e5-91b6-4f68-fdd1-21cc3f155701"
      },
      "source": [
        "# Javobni shuyerga yozing\n",
        "\n",
        "df[\"HOSP_TYPE\"].value_counts()"
      ],
      "execution_count": null,
      "outputs": [
        {
          "output_type": "execute_result",
          "data": {
            "text/plain": [
              "Maxsus    241139\n",
              "Umumiy     94255\n",
              "Name: HOSP_TYPE, dtype: int64"
            ]
          },
          "metadata": {},
          "execution_count": 26
        }
      ]
    },
    {
      "cell_type": "code",
      "metadata": {
        "cellView": "form",
        "id": "j472LUxgU0P-"
      },
      "source": [
        "#@title **To'g'ri javob**\n",
        "df[\"HOSP_TYPE\"].value_counts()"
      ],
      "execution_count": null,
      "outputs": []
    },
    {
      "cell_type": "markdown",
      "metadata": {
        "id": "kEr2LYiJ_I-k"
      },
      "source": [
        "#### **8-mashq**. Datasetda qancha takrorlangan qatorlar borligini aniqlang  \n"
      ]
    },
    {
      "cell_type": "code",
      "metadata": {
        "id": "7EzWPhDZ_i5o",
        "colab": {
          "base_uri": "https://localhost:8080/"
        },
        "outputId": "fc4ad42b-7bca-4a56-a7c6-8e069412d1a4"
      },
      "source": [
        "# Javobni shuyerga yozing\n",
        "df.duplicated().sum()\n"
      ],
      "execution_count": null,
      "outputs": [
        {
          "output_type": "execute_result",
          "data": {
            "text/plain": [
              "30"
            ]
          },
          "metadata": {},
          "execution_count": 29
        }
      ]
    },
    {
      "cell_type": "code",
      "metadata": {
        "id": "J3yF9CKM5eTs",
        "colab": {
          "base_uri": "https://localhost:8080/"
        },
        "outputId": "761b570c-044b-4921-c28a-9357080e0112"
      },
      "source": [
        "#@title **To'g'ri javob**\n",
        "sum(df.duplicated())"
      ],
      "execution_count": null,
      "outputs": [
        {
          "output_type": "execute_result",
          "data": {
            "text/plain": [
              "30"
            ]
          },
          "metadata": {},
          "execution_count": 30
        }
      ]
    },
    {
      "cell_type": "markdown",
      "metadata": {
        "id": "6gphfgtd_nJK"
      },
      "source": [
        "#### **9-mashq**. Datasetda barcha takrorlangan qatorlarni o'chirib yuboring  \n"
      ]
    },
    {
      "cell_type": "code",
      "metadata": {
        "id": "DdsEuZXg_tEd"
      },
      "source": [
        "# Javobni shuyerga yozing\n",
        "\n",
        "df.drop_duplicates(inplace=True)"
      ],
      "execution_count": null,
      "outputs": []
    },
    {
      "cell_type": "code",
      "metadata": {
        "id": "sy_c4uyI_t6f"
      },
      "source": [
        "#@title **To'g'ri javob**\n",
        "df.drop_duplicates(inplace=True)"
      ],
      "execution_count": null,
      "outputs": []
    },
    {
      "cell_type": "markdown",
      "metadata": {
        "id": "bN26F9LP_2RE"
      },
      "source": [
        "#### **10-mashq**. Datasetdan shifoxona turiga ko'ra (umumiy va maxsus), ClAIM_AMOUNTning o'rtacha qiymatlarini toping.\n"
      ]
    },
    {
      "cell_type": "code",
      "metadata": {
        "id": "t2NcocXLFI78",
        "colab": {
          "base_uri": "https://localhost:8080/"
        },
        "outputId": "84c72f19-59fd-4787-e3b9-e14d19e93ffc"
      },
      "source": [
        "# Javobni shuyerga yozing\n",
        "df.groupby(\"HOSP_TYPE\").CLAIM_AMOUNT.mean()\n"
      ],
      "execution_count": null,
      "outputs": [
        {
          "output_type": "execute_result",
          "data": {
            "text/plain": [
              "HOSP_TYPE\n",
              "Maxsus    30275.151848\n",
              "Umumiy    22683.770100\n",
              "Name: CLAIM_AMOUNT, dtype: float64"
            ]
          },
          "metadata": {},
          "execution_count": 33
        }
      ]
    },
    {
      "cell_type": "code",
      "metadata": {
        "cellView": "form",
        "id": "vpa7vDJWAc6u"
      },
      "source": [
        "#@title **To'g'ri javob**\n",
        "df.groupby('HOSP_TYPE').CLAIM_AMOUNT.mean()\n"
      ],
      "execution_count": null,
      "outputs": []
    },
    {
      "cell_type": "markdown",
      "metadata": {
        "id": "7QnvZvW6F3Su"
      },
      "source": [
        "#### **11-mashq**. Datasetdan shifoxona turiga ko'ra (umumiy va maxsus), ClAIM_AMOUNTning minimum qiymatlarini toping.\n"
      ]
    },
    {
      "cell_type": "code",
      "metadata": {
        "id": "5K42PI7tF0On",
        "colab": {
          "base_uri": "https://localhost:8080/"
        },
        "outputId": "6d117407-0013-4745-9af8-124950dbb1c6"
      },
      "source": [
        "# Javobni shuyerga yozing\n",
        "df.groupby(\"HOSP_TYPE\").CLAIM_AMOUNT.min()"
      ],
      "execution_count": null,
      "outputs": [
        {
          "output_type": "execute_result",
          "data": {
            "text/plain": [
              "HOSP_TYPE\n",
              "Maxsus    2\n",
              "Umumiy    2\n",
              "Name: CLAIM_AMOUNT, dtype: int64"
            ]
          },
          "metadata": {},
          "execution_count": 34
        }
      ]
    },
    {
      "cell_type": "code",
      "metadata": {
        "cellView": "form",
        "id": "znwYPfq5F0Sy"
      },
      "source": [
        "#@title **To'g'ri javob**\n",
        "df.groupby('HOSP_TYPE').CLAIM_AMOUNT.min()"
      ],
      "execution_count": null,
      "outputs": []
    },
    {
      "cell_type": "markdown",
      "metadata": {
        "id": "KQKllXlaF5D7"
      },
      "source": [
        "#### **12-mashq**. Datasetdan shifoxona turiga ko'ra (umumiy va maxsus), CLAIM_AMOUNTning maksimum qiymatlarini toping.\n"
      ]
    },
    {
      "cell_type": "code",
      "metadata": {
        "id": "7RNQVzsCF8-m",
        "colab": {
          "base_uri": "https://localhost:8080/"
        },
        "outputId": "2ad7e9d9-d38c-4620-c97d-753330be4c7a"
      },
      "source": [
        "# Javobni shuyerga yozing\n",
        "\n",
        "df.groupby(\"HOSP_TYPE\").CLAIM_AMOUNT.max()"
      ],
      "execution_count": null,
      "outputs": [
        {
          "output_type": "execute_result",
          "data": {
            "text/plain": [
              "HOSP_TYPE\n",
              "Maxsus    520000\n",
              "Umumiy    520000\n",
              "Name: CLAIM_AMOUNT, dtype: int64"
            ]
          },
          "metadata": {},
          "execution_count": 35
        }
      ]
    },
    {
      "cell_type": "code",
      "metadata": {
        "cellView": "form",
        "id": "PM-8O6dZF-c_"
      },
      "source": [
        "#@title **To'g'ri javob**\n",
        "df.groupby('HOSP_TYPE').CLAIM_AMOUNT.max()"
      ],
      "execution_count": null,
      "outputs": []
    },
    {
      "cell_type": "markdown",
      "metadata": {
        "id": "JhL3fPU4HJkK"
      },
      "source": [
        ".agg() yordamida istalgan funksiyalarni chaqirishimiz mumkin, misol uchun numpy dagi mean (o'rta qiymat) funiksiyasini ham qo'shamiz. Natijalarni faqat price ustuni uchun chiqaramiz:"
      ]
    },
    {
      "cell_type": "markdown",
      "metadata": {
        "id": "ZaAwTY8RHLBB"
      },
      "source": [
        "#### **13-mashq**. Datasetdan jinsiga ko'ra CLAIM_AMOUNTning min, max va o'rta qiymatlarni agg() usuli yordamida toping.\n",
        "\n"
      ]
    },
    {
      "cell_type": "code",
      "metadata": {
        "id": "-X_HduSGH00I",
        "colab": {
          "base_uri": "https://localhost:8080/",
          "height": 144
        },
        "outputId": "9a90a1ca-4f39-42bd-f13c-38a008df1fc0"
      },
      "source": [
        "# Javobni shuyerga yozing\n",
        "\n",
        "df.groupby(\"SEX\").CLAIM_AMOUNT.agg([min,max,np.mean])"
      ],
      "execution_count": null,
      "outputs": [
        {
          "output_type": "execute_result",
          "data": {
            "text/html": [
              "\n",
              "  <div id=\"df-5382fb45-1dd8-4f71-96b6-a2c43cdd7cba\">\n",
              "    <div class=\"colab-df-container\">\n",
              "      <div>\n",
              "<style scoped>\n",
              "    .dataframe tbody tr th:only-of-type {\n",
              "        vertical-align: middle;\n",
              "    }\n",
              "\n",
              "    .dataframe tbody tr th {\n",
              "        vertical-align: top;\n",
              "    }\n",
              "\n",
              "    .dataframe thead th {\n",
              "        text-align: right;\n",
              "    }\n",
              "</style>\n",
              "<table border=\"1\" class=\"dataframe\">\n",
              "  <thead>\n",
              "    <tr style=\"text-align: right;\">\n",
              "      <th></th>\n",
              "      <th>min</th>\n",
              "      <th>max</th>\n",
              "      <th>mean</th>\n",
              "    </tr>\n",
              "    <tr>\n",
              "      <th>SEX</th>\n",
              "      <th></th>\n",
              "      <th></th>\n",
              "      <th></th>\n",
              "    </tr>\n",
              "  </thead>\n",
              "  <tbody>\n",
              "    <tr>\n",
              "      <th>0.0</th>\n",
              "      <td>2</td>\n",
              "      <td>520000</td>\n",
              "      <td>25960.356579</td>\n",
              "    </tr>\n",
              "    <tr>\n",
              "      <th>1.0</th>\n",
              "      <td>2</td>\n",
              "      <td>205000</td>\n",
              "      <td>29636.456810</td>\n",
              "    </tr>\n",
              "  </tbody>\n",
              "</table>\n",
              "</div>\n",
              "      <button class=\"colab-df-convert\" onclick=\"convertToInteractive('df-5382fb45-1dd8-4f71-96b6-a2c43cdd7cba')\"\n",
              "              title=\"Convert this dataframe to an interactive table.\"\n",
              "              style=\"display:none;\">\n",
              "        \n",
              "  <svg xmlns=\"http://www.w3.org/2000/svg\" height=\"24px\"viewBox=\"0 0 24 24\"\n",
              "       width=\"24px\">\n",
              "    <path d=\"M0 0h24v24H0V0z\" fill=\"none\"/>\n",
              "    <path d=\"M18.56 5.44l.94 2.06.94-2.06 2.06-.94-2.06-.94-.94-2.06-.94 2.06-2.06.94zm-11 1L8.5 8.5l.94-2.06 2.06-.94-2.06-.94L8.5 2.5l-.94 2.06-2.06.94zm10 10l.94 2.06.94-2.06 2.06-.94-2.06-.94-.94-2.06-.94 2.06-2.06.94z\"/><path d=\"M17.41 7.96l-1.37-1.37c-.4-.4-.92-.59-1.43-.59-.52 0-1.04.2-1.43.59L10.3 9.45l-7.72 7.72c-.78.78-.78 2.05 0 2.83L4 21.41c.39.39.9.59 1.41.59.51 0 1.02-.2 1.41-.59l7.78-7.78 2.81-2.81c.8-.78.8-2.07 0-2.86zM5.41 20L4 18.59l7.72-7.72 1.47 1.35L5.41 20z\"/>\n",
              "  </svg>\n",
              "      </button>\n",
              "      \n",
              "  <style>\n",
              "    .colab-df-container {\n",
              "      display:flex;\n",
              "      flex-wrap:wrap;\n",
              "      gap: 12px;\n",
              "    }\n",
              "\n",
              "    .colab-df-convert {\n",
              "      background-color: #E8F0FE;\n",
              "      border: none;\n",
              "      border-radius: 50%;\n",
              "      cursor: pointer;\n",
              "      display: none;\n",
              "      fill: #1967D2;\n",
              "      height: 32px;\n",
              "      padding: 0 0 0 0;\n",
              "      width: 32px;\n",
              "    }\n",
              "\n",
              "    .colab-df-convert:hover {\n",
              "      background-color: #E2EBFA;\n",
              "      box-shadow: 0px 1px 2px rgba(60, 64, 67, 0.3), 0px 1px 3px 1px rgba(60, 64, 67, 0.15);\n",
              "      fill: #174EA6;\n",
              "    }\n",
              "\n",
              "    [theme=dark] .colab-df-convert {\n",
              "      background-color: #3B4455;\n",
              "      fill: #D2E3FC;\n",
              "    }\n",
              "\n",
              "    [theme=dark] .colab-df-convert:hover {\n",
              "      background-color: #434B5C;\n",
              "      box-shadow: 0px 1px 3px 1px rgba(0, 0, 0, 0.15);\n",
              "      filter: drop-shadow(0px 1px 2px rgba(0, 0, 0, 0.3));\n",
              "      fill: #FFFFFF;\n",
              "    }\n",
              "  </style>\n",
              "\n",
              "      <script>\n",
              "        const buttonEl =\n",
              "          document.querySelector('#df-5382fb45-1dd8-4f71-96b6-a2c43cdd7cba button.colab-df-convert');\n",
              "        buttonEl.style.display =\n",
              "          google.colab.kernel.accessAllowed ? 'block' : 'none';\n",
              "\n",
              "        async function convertToInteractive(key) {\n",
              "          const element = document.querySelector('#df-5382fb45-1dd8-4f71-96b6-a2c43cdd7cba');\n",
              "          const dataTable =\n",
              "            await google.colab.kernel.invokeFunction('convertToInteractive',\n",
              "                                                     [key], {});\n",
              "          if (!dataTable) return;\n",
              "\n",
              "          const docLinkHtml = 'Like what you see? Visit the ' +\n",
              "            '<a target=\"_blank\" href=https://colab.research.google.com/notebooks/data_table.ipynb>data table notebook</a>'\n",
              "            + ' to learn more about interactive tables.';\n",
              "          element.innerHTML = '';\n",
              "          dataTable['output_type'] = 'display_data';\n",
              "          await google.colab.output.renderOutput(dataTable, element);\n",
              "          const docLink = document.createElement('div');\n",
              "          docLink.innerHTML = docLinkHtml;\n",
              "          element.appendChild(docLink);\n",
              "        }\n",
              "      </script>\n",
              "    </div>\n",
              "  </div>\n",
              "  "
            ],
            "text/plain": [
              "     min     max          mean\n",
              "SEX                           \n",
              "0.0    2  520000  25960.356579\n",
              "1.0    2  205000  29636.456810"
            ]
          },
          "metadata": {},
          "execution_count": 43
        }
      ]
    },
    {
      "cell_type": "code",
      "metadata": {
        "cellView": "form",
        "id": "3372GXlAHsvB"
      },
      "source": [
        "#@title **To'g'ri javob**\n",
        "df.groupby('SEX').CLAIM_AMOUNT.agg([min, max, np.mean])\n"
      ],
      "execution_count": null,
      "outputs": []
    }
  ]
}