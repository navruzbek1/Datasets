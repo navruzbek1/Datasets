{
  "nbformat": 4,
  "nbformat_minor": 0,
  "metadata": {
    "colab": {
      "name": "california_house.ipynb",
      "provenance": [],
      "collapsed_sections": [],
      "authorship_tag": "ABX9TyMQY2Ji8IHAHGn7+wCTDrpn",
      "include_colab_link": true
    },
    "kernelspec": {
      "name": "python3",
      "display_name": "Python 3"
    },
    "language_info": {
      "name": "python"
    }
  },
  "cells": [
    {
      "cell_type": "markdown",
      "metadata": {
        "id": "view-in-github",
        "colab_type": "text"
      },
      "source": [
        "<a href=\"https://colab.research.google.com/github/navruzbek1/Datasets/blob/main/california_house.ipynb\" target=\"_parent\"><img src=\"https://colab.research.google.com/assets/colab-badge.svg\" alt=\"Open In Colab\"/></a>"
      ]
    },
    {
      "cell_type": "code",
      "execution_count": null,
      "metadata": {
        "id": "4WvzHETZo8Iu"
      },
      "outputs": [],
      "source": [
        "import numpy as np\n",
        "import pandas as pd\n",
        "import sklearn"
      ]
    },
    {
      "cell_type": "code",
      "source": [
        "df=pd.read_csv(\"/content/loyiha1.csv\",index_col=0)"
      ],
      "metadata": {
        "id": "iKo8AaodpCRd"
      },
      "execution_count": null,
      "outputs": []
    },
    {
      "cell_type": "code",
      "source": [
        "from sklearn.model_selection import train_test_split\n",
        "train_set,test_set =train_test_split(df,train_size=0.8,random_state=21)"
      ],
      "metadata": {
        "id": "LM5LuSlxpXu4"
      },
      "execution_count": null,
      "outputs": []
    },
    {
      "cell_type": "code",
      "source": [
        "housing=train_set.drop(\"median_house_value\",axis=1)\n",
        "housing_label=train_set[\"median_house_value\"]\n",
        "housing_num=housing.drop(\"ocean_proximity\",axis=1)"
      ],
      "metadata": {
        "id": "rdrWXzIopmNg"
      },
      "execution_count": null,
      "outputs": []
    },
    {
      "cell_type": "markdown",
      "source": [
        "ishlatmadim\n"
      ],
      "metadata": {
        "id": "ORiSTIKnB_V6"
      }
    },
    {
      "cell_type": "code",
      "source": [
        "from sklearn.impute import SimpleImputer\n",
        "imputer=SimpleImputer(strategy=\"median\")\n",
        "X=imputer.fit_transform(housing.drop(\"ocean_proximity\",axis=1))"
      ],
      "metadata": {
        "id": "B-pmnBv5zZq_"
      },
      "execution_count": null,
      "outputs": []
    },
    {
      "cell_type": "code",
      "source": [
        "from sklearn.base import BaseEstimator, TransformerMixin\n",
        "# bizga kerak ustunlar indekslari\n",
        "rooms_ix, bedrooms_ix, population_ix, households_ix = 3, 4, 5, 6\n",
        "\n",
        "class assalom(BaseEstimator, TransformerMixin):\n",
        "    def __init__(self, add_bedrooms_per_room = True):\n",
        "        self.add_bedrooms_per_room = add_bedrooms_per_room\n",
        "    def fit(self, X, y=None):\n",
        "        return self # bizni funksiyamiz faqat transformer. estimator emas\n",
        "    def transform(self, X):\n",
        "        rooms_per_household = X[:, rooms_ix] / X[:, households_ix]\n",
        "        population_per_household = X[:, population_ix] / X[:, households_ix]\n",
        "        if self.add_bedrooms_per_room: # add_bedrooms_per_room ustuni ixtiyoriy bo'ladi\n",
        "            bedrooms_per_room = X[:, bedrooms_ix] / X[:, rooms_ix]\n",
        "            return np.c_[X, rooms_per_household, population_per_household, bedrooms_per_room]\n",
        "        else:\n",
        "            return np.c_[X, rooms_per_household, population_per_household]"
      ],
      "metadata": {
        "id": "Gn3ot0M7qENc"
      },
      "execution_count": null,
      "outputs": []
    },
    {
      "cell_type": "code",
      "source": [
        "from sklearn.pipeline import Pipeline\n",
        "from sklearn.impute import SimpleImputer\n",
        "from sklearn.preprocessing import OneHotEncoder,StandardScaler\n",
        "\n",
        "num_pipeline=Pipeline([\n",
        "    (\"imputer\", SimpleImputer(strategy=\"median\")),\n",
        "    (\"add_trans\",assalom()),\n",
        "    (\"st_scale\",StandardScaler())]\n",
        ")#sonli hisoblashlar uchun\n",
        "\n",
        "num_pipeline.fit_transform(housing_num)"
      ],
      "metadata": {
        "id": "2z4-pOBCqWsT"
      },
      "execution_count": null,
      "outputs": []
    },
    {
      "cell_type": "code",
      "source": [
        "from sklearn.compose import ColumnTransformer\n",
        "\n",
        "sonli_qator=list(housing_num)\n",
        "matnli_qator=[\"ocean_proximity\"]\n",
        "\n",
        "full_pipeline=ColumnTransformer([\n",
        "       (\"num\",num_pipeline,sonli_qator),\n",
        "       (\"matn\",OneHotEncoder(),matnli_qator) \n",
        "])#matnli hisoblashlar uchun"
      ],
      "metadata": {
        "id": "MzNX0VFqvJ-X"
      },
      "execution_count": null,
      "outputs": []
    },
    {
      "cell_type": "code",
      "source": [
        "X_prepared=full_pipeline.fit_transform(housing)"
      ],
      "metadata": {
        "id": "usTxWVc_1Egp"
      },
      "execution_count": null,
      "outputs": []
    },
    {
      "cell_type": "code",
      "source": [
        "from sklearn.linear_model import LinearRegression\n",
        "LR_model=LinearRegression()"
      ],
      "metadata": {
        "id": "kgRgurAK1NSl"
      },
      "execution_count": null,
      "outputs": []
    },
    {
      "cell_type": "code",
      "source": [
        "y=train_set[\"median_house_value\"]"
      ],
      "metadata": {
        "id": "HJS4EHFT6qyD"
      },
      "execution_count": null,
      "outputs": []
    },
    {
      "cell_type": "code",
      "source": [
        "LR_model.fit(X_prepared,y)"
      ],
      "metadata": {
        "colab": {
          "base_uri": "https://localhost:8080/"
        },
        "id": "yskWcf675qkh",
        "outputId": "d03c16aa-93dc-4b9e-8f3c-d31f1d3367b0"
      },
      "execution_count": null,
      "outputs": [
        {
          "output_type": "execute_result",
          "data": {
            "text/plain": [
              "LinearRegression()"
            ]
          },
          "metadata": {},
          "execution_count": 123
        }
      ]
    },
    {
      "cell_type": "code",
      "source": [
        "X_prepared.shape"
      ],
      "metadata": {
        "colab": {
          "base_uri": "https://localhost:8080/"
        },
        "id": "Z_odxC6d-Lb1",
        "outputId": "71f6648d-7127-434a-b304-8107ca91b4fb"
      },
      "execution_count": null,
      "outputs": [
        {
          "output_type": "execute_result",
          "data": {
            "text/plain": [
              "(16512, 16)"
            ]
          },
          "metadata": {},
          "execution_count": 96
        }
      ]
    },
    {
      "cell_type": "code",
      "source": [
        "test_data=train_set.sample(10)\n",
        "test_data"
      ],
      "metadata": {
        "id": "085jUgje66y8"
      },
      "execution_count": null,
      "outputs": []
    },
    {
      "cell_type": "code",
      "source": [
        "test_label=y.loc[test_data.index]\n",
        "test_label"
      ],
      "metadata": {
        "id": "FiwLQZcP718F"
      },
      "execution_count": null,
      "outputs": []
    },
    {
      "cell_type": "code",
      "source": [
        "test_data_predicted=full_pipeline.transform(test_data)\n",
        "test_data_predicted[0,:]"
      ],
      "metadata": {
        "id": "pOA0S5uB8Ovz"
      },
      "execution_count": null,
      "outputs": []
    },
    {
      "cell_type": "code",
      "source": [
        "predicted_labels=LR_model.predict(test_data_predicted)\n",
        "predicted_labels"
      ],
      "metadata": {
        "id": "-3a7nOcN8z4A"
      },
      "execution_count": null,
      "outputs": []
    }
  ]
}